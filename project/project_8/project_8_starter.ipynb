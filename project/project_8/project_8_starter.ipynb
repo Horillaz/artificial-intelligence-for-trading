{
 "cells": [
  {
   "cell_type": "markdown",
   "metadata": {},
   "source": [
    "# Project 8: Backtesting\n",
    "\n",
    "In this project, you will build a fairly realistic backtester that uses the Barra data. The backtester will perform portfolio optimization that includes transaction costs, and you'll implement it with computational efficiency in mind, to allow for a reasonably fast backtest. You'll also use performance attribution to identify the major drivers of your portfolio's profit-and-loss (PnL). You will have the option to modify and customize the backtest as well.\n",
    "\n",
    "\n",
    "## Instructions\n",
    "\n",
    "Each problem consists of a function to implement and instructions on how to implement the function.  The parts of the function that need to be implemented are marked with a `# TODO` comment. Your code will be checked for the correct solution when you submit it to Udacity.\n",
    "\n",
    "\n",
    "## Packages\n",
    "\n",
    "When you implement the functions, you'll only need to you use the packages you've used in the classroom, like [Pandas](https://pandas.pydata.org/) and [Numpy](http://www.numpy.org/). These packages will be imported for you. We recommend you don't add any import statements, otherwise the grader might not be able to run your code.\n",
    "\n",
    "### Install Packages"
   ]
  },
  {
   "cell_type": "code",
   "execution_count": 1,
   "metadata": {},
   "outputs": [],
   "source": [
    "import sys\n",
    "#!{sys.executable} -m pip install -r requirements.txt"
   ]
  },
  {
   "cell_type": "markdown",
   "metadata": {},
   "source": [
    "### Load Packages"
   ]
  },
  {
   "cell_type": "code",
   "execution_count": 2,
   "metadata": {},
   "outputs": [],
   "source": [
    "import scipy\n",
    "import patsy\n",
    "import pickle\n",
    "\n",
    "import numpy as np\n",
    "import pandas as pd\n",
    "\n",
    "import scipy.sparse\n",
    "import matplotlib.pyplot as plt\n",
    "\n",
    "from statistics import median\n",
    "from scipy.stats import gaussian_kde\n",
    "from statsmodels.formula.api import ols\n",
    "from tqdm import tqdm"
   ]
  },
  {
   "cell_type": "code",
   "execution_count": 4,
   "metadata": {},
   "outputs": [],
   "source": [
    "#barra_dir = 'data/'\n",
    "#data = {}\n",
    "#for d in [1,2,3]:\n",
    "#    fil = barra_dir + \"pandas-frames{}.\".format(str(d)) + \"2004\" + \".pickle\"\n",
    "#    data.update(pickle.load( open( fil, \"rb\" ) ))\n",
    "\n",
    "#with open(barra_dir+'pandas-frames.2004.pickle', 'wb') as handle:\n",
    "#    pickle.dump(data, handle)"
   ]
  },
  {
   "cell_type": "markdown",
   "metadata": {},
   "source": [
    "## Load Data\n",
    "\n",
    "We’ll be using the Barra dataset to get factors that can be used to predict risk. Loading and parsing the raw Barra data can be a very slow process that can significantly slow down your backtesting. For this reason, it's important to pre-process the data beforehand. For your convenience, the Barra data has already been pre-processed for you and saved into pickle files. You will load the Barra data from these pickle files.\n",
    "\n",
    "In the code below, we start by loading `2004` factor data from the `pandas-frames.2004.pickle` file. We also load the `2003` and `2004` covariance data from the `covaraince.2003.pickle`  and `covaraince.2004.pickle` files. You are encouraged  to customize the data range for your backtest. For example, we recommend starting with two or three years of factor data. Remember that the covariance data should include all the years that you choose for the factor data,   and also one year earlier. For example, in the code below we are using  `2004` factor data, therefore, we must include `2004` in our covariance data, but also the previous year, `2003`. If you don't remember why must include this previous year, feel free to review the lessons."
   ]
  },
  {
   "cell_type": "code",
   "execution_count": 5,
   "metadata": {},
   "outputs": [],
   "source": [
    "barra_dir = 'data/'\n",
    "\n",
    "data = {}\n",
    "for year in [2004]:\n",
    "    fil = barra_dir + \"pandas-frames.\" + str(year) + \".pickle\"\n",
    "    data.update(pickle.load( open( fil, \"rb\" ) ))\n",
    "    \n",
    "covariance = {}\n",
    "for year in [2004]:\n",
    "    fil = barra_dir + \"covariance.\" + str(year) + \".pickle\"\n",
    "    covariance.update(pickle.load( open(fil, \"rb\" ) ))\n",
    "    \n",
    "daily_return = {}\n",
    "for year in [2004, 2005]:\n",
    "    fil = barra_dir + \"price.\" + str(year) + \".pickle\"\n",
    "    daily_return.update(pickle.load( open(fil, \"rb\" ) ))"
   ]
  },
  {
   "cell_type": "markdown",
   "metadata": {},
   "source": [
    "## Shift Daily Returns Data (TODO)\n",
    "\n",
    "In the cell below, we want to incorporate a realistic time delay that exists in live trading, we’ll use a two day delay for the `daily_return` data. That means the `daily_return` should be two days after the data in `data` and `cov_data`. Combine `daily_return` and `data` together in a dict called `frames`.\n",
    "\n",
    "Since reporting of PnL is usually for the date of the returns, make sure to use the two day delay dates (dates that match the `daily_return`) when building `frames`. This means calling `frames['20040108']` will get you the prices from \"20040108\" and the data from `data` at \"20040106\".\n",
    "\n",
    "Note: We're not shifting `covariance`, since we'll use the \"DataDate\" field in `frames` to lookup the covariance data. The \"DataDate\" field contains the date when the `data` in `frames` was recorded. For example, `frames['20040108']` will give you a value of \"20040106\" for the field \"DataDate\"."
   ]
  },
  {
   "cell_type": "code",
   "execution_count": 7,
   "metadata": {},
   "outputs": [],
   "source": [
    "frames ={}\n",
    "dlyreturn_n_days_delay = 2\n",
    "\n",
    "# TODO: Implement\n",
    "dates = daily_return.keys()\n",
    "\n",
    "date_shifts = zip(\n",
    "    sorted(data.keys()),\n",
    "    sorted(daily_return.keys())[dlyreturn_n_days_delay:(len(data.keys())+dlyreturn_n_days_delay)]\n",
    ")\n",
    "\n",
    "for date, date_ret in date_shifts:\n",
    "    frames[date_ret] = data[date].merge(daily_return[date_ret], on='Barrid')"
   ]
  },
  {
   "cell_type": "markdown",
   "metadata": {},
   "source": [
    "## Add Daily Returns date column (Optional)\n",
    "Name the column `DlyReturnDate`.\n",
    "**Hint**: create a list containing copies of the date, then create a pandas series."
   ]
  },
  {
   "cell_type": "code",
   "execution_count": 9,
   "metadata": {},
   "outputs": [],
   "source": [
    "# Optional\n",
    "for DlyReturnDate, df in frames.items():\n",
    "    df['DlyReturnDate'] = DlyReturnDate"
   ]
  },
  {
   "cell_type": "markdown",
   "metadata": {},
   "source": [
    "## Winsorize\n",
    "\n",
    "As we have done in other projects, we'll want to avoid extremely positive or negative values in our data. Will therefore create a function, `wins`, that will clip our values to a minimum and maximum range. This process is called **Winsorizing**. Remember that this helps us handle noise, which may otherwise cause unusually large positions."
   ]
  },
  {
   "cell_type": "code",
   "execution_count": 10,
   "metadata": {},
   "outputs": [],
   "source": [
    "def wins(x,a,b):\n",
    "    return np.where(x <= a,a, np.where(x >= b, b, x))"
   ]
  },
  {
   "cell_type": "markdown",
   "metadata": {},
   "source": [
    "## Density Plot\n",
    "\n",
    "Let's check our `wins` function by taking a look at the distribution of returns for a single day `20040102`. We will clip our data from `-0.1` to `0.1` and plot it using our `density_plot` function."
   ]
  },
  {
   "cell_type": "code",
   "execution_count": 11,
   "metadata": {},
   "outputs": [
    {
     "data": {
      "image/png": "[encoded data removed]",
      "text/plain": [
       "<Figure size 432x288 with 1 Axes>"
      ]
     },
     "metadata": {
      "needs_background": "light"
     },
     "output_type": "display_data"
    }
   ],
   "source": [
    "def density_plot(data): \n",
    "    density = gaussian_kde(data)\n",
    "    xs = np.linspace(np.min(data),np.max(data),200)\n",
    "    density.covariance_factor = lambda : .25\n",
    "    density._compute_covariance()\n",
    "    plt.plot(xs,density(xs))\n",
    "    plt.xlabel('Daily Returns')\n",
    "    plt.ylabel('Density')\n",
    "    plt.show()\n",
    "    \n",
    "test = frames['20040108']\n",
    "test['DlyReturn'] = wins(test['DlyReturn'],-0.1,0.1)\n",
    "density_plot(test['DlyReturn'])"
   ]
  },
  {
   "cell_type": "markdown",
   "metadata": {},
   "source": [
    "## Factor Exposures and Factor Returns\n",
    "\n",
    "Recall that:\n",
    "\n",
    "$r_{i,t} = \\sum_{j=1}^{k} (\\beta_{i,j,t-2} \\times f_{j,t})$  \n",
    "where $i=1...N$ (N assets),   \n",
    "and $j=1...k$ (k factors).\n",
    "\n",
    "where $r_{i,t}$ is the return, $\\beta_{i,j,t-2}$ is the factor exposure, and $f_{j,t}$ is the factor return. Since we get the factor exposures from the Barra data, and we know the returns, it is possible to estimate the factor returns. In this notebook, we will use the Ordinary Least Squares (OLS) method to estimate the factor exposures, $f_{j,t}$, by using $\\beta_{i,j,t-2}$ as the independent variable, and $r_{i,t}$ as the dependent variable."
   ]
  },
  {
   "cell_type": "code",
   "execution_count": 12,
   "metadata": {},
   "outputs": [],
   "source": [
    "def get_formula(factors, Y):\n",
    "    L = [\"0\"]\n",
    "    L.extend(factors)\n",
    "    return Y + \" ~ \" + \" + \".join(L)\n",
    "\n",
    "def factors_from_names(n):\n",
    "    return list(filter(lambda x: \"USFASTD_\" in x, n))\n",
    "\n",
    "def estimate_factor_returns(df): \n",
    "    ## build universe based on filters \n",
    "    estu = df.loc[df.IssuerMarketCap > 1e9].copy(deep=True)\n",
    "  \n",
    "    ## winsorize returns for fitting \n",
    "    estu['DlyReturn'] = wins(estu['DlyReturn'], -0.25, 0.25)\n",
    "  \n",
    "    all_factors = factors_from_names(list(df))\n",
    "    form = get_formula(all_factors, \"DlyReturn\")\n",
    "    model = ols(form, data=estu)\n",
    "    results = model.fit()\n",
    "    return results"
   ]
  },
  {
   "cell_type": "code",
   "execution_count": 13,
   "metadata": {},
   "outputs": [],
   "source": [
    "facret = {}\n",
    "\n",
    "for date in frames:\n",
    "    facret[date] = estimate_factor_returns(frames[date]).params"
   ]
  },
  {
   "cell_type": "code",
   "execution_count": 14,
   "metadata": {},
   "outputs": [],
   "source": [
    "my_dates = sorted(list(map(lambda date: pd.to_datetime(date, format='%Y%m%d'), frames.keys())))"
   ]
  },
  {
   "cell_type": "code",
   "execution_count": 15,
   "metadata": {},
   "outputs": [
    {
     "data": {
      "text/plain": [
       "USFASTD_1DREVRSL    0.000409\n",
       "USFASTD_AERODEF     0.006687\n",
       "USFASTD_AIRLINES   -0.023061\n",
       "USFASTD_ALUMSTEL   -0.006046\n",
       "USFASTD_APPAREL     0.000089\n",
       "                      ...   \n",
       "USFASTD_TELECOM     0.011985\n",
       "USFASTD_TRADECO    -0.007431\n",
       "USFASTD_TRANSPRT    0.004154\n",
       "USFASTD_VALUE       0.000769\n",
       "USFASTD_WIRELESS    0.015738\n",
       "Length: 81, dtype: float64"
      ]
     },
     "execution_count": 15,
     "metadata": {},
     "output_type": "execute_result"
    }
   ],
   "source": [
    "facret['20040108']"
   ]
  },
  {
   "cell_type": "markdown",
   "metadata": {},
   "source": [
    "## Choose Alpha Factors\n",
    "\n",
    "We will now choose our alpha factors. Barra's factors include some alpha factors that we have seen before, such as:\n",
    "\n",
    "* **USFASTD_1DREVRSL** : Reversal\n",
    "\n",
    "* **USFASTD_EARNYILD** : Earnings Yield\n",
    "\n",
    "* **USFASTD_VALUE** : Value\n",
    "\n",
    "* **USFASTD_SENTMT** : Sentiment\n",
    "\n",
    "We will choose these alpha factors for now, but you are encouraged to come back to this later and try other factors as well."
   ]
  },
  {
   "cell_type": "code",
   "execution_count": 16,
   "metadata": {},
   "outputs": [
    {
     "name": "stderr",
     "output_type": "stream",
     "text": [
      "/Users/hou/anaconda3/envs/backtest/lib/python3.7/site-packages/pandas/plotting/_matplotlib/converter.py:103: FutureWarning: Using an implicitly registered datetime converter for a matplotlib plotting method. The converter was registered by pandas on import. Future versions of pandas will require you to explicitly register matplotlib converters.\n",
      "\n",
      "To register the converters:\n",
      "\t>>> from pandas.plotting import register_matplotlib_converters\n",
      "\t>>> register_matplotlib_converters()\n",
      "  warnings.warn(msg, FutureWarning)\n"
     ]
    },
    {
     "data": {
      "image/png": "[encoded data removed]",
      "text/plain": [
       "<Figure size 432x288 with 1 Axes>"
      ]
     },
     "metadata": {
      "needs_background": "light"
     },
     "output_type": "display_data"
    }
   ],
   "source": [
    "alpha_factors = [\"USFASTD_1DREVRSL\", \"USFASTD_EARNYILD\", \"USFASTD_VALUE\", \"USFASTD_SENTMT\"]\n",
    "\n",
    "facret_df = pd.DataFrame(index = my_dates)\n",
    "\n",
    "for dt in my_dates: \n",
    "    for alp in alpha_factors: \n",
    "        facret_df.at[dt, alp] = facret[dt.strftime('%Y%m%d')][alp]\n",
    "\n",
    "for column in facret_df.columns:\n",
    "        plt.plot(facret_df[column].cumsum(), label=column)\n",
    "plt.legend(loc='upper left')\n",
    "plt.xlabel('Date')\n",
    "plt.ylabel('Cumulative Factor Returns')\n",
    "plt.show()"
   ]
  },
  {
   "cell_type": "markdown",
   "metadata": {},
   "source": [
    "## Merge Previous Portfolio Holdings \n",
    "\n",
    "In order to optimize our portfolio we will use the previous day's holdings to estimate the trade size and transaction costs. In order to keep track of the holdings from the previous day we will include a column to hold the portfolio holdings of the previous day. These holdings of all our assets will be initialized to zero when the backtest first starts."
   ]
  },
  {
   "cell_type": "code",
   "execution_count": 17,
   "metadata": {},
   "outputs": [],
   "source": [
    "def clean_nas(df): \n",
    "    numeric_columns = df.select_dtypes(include=[np.number]).columns.tolist()\n",
    "    \n",
    "    for numeric_column in numeric_columns: \n",
    "        df[numeric_column] = np.nan_to_num(df[numeric_column])\n",
    "    \n",
    "    return df"
   ]
  },
  {
   "cell_type": "code",
   "execution_count": 18,
   "metadata": {},
   "outputs": [],
   "source": [
    "previous_holdings = pd.DataFrame(data = {\"Barrid\" : [\"USA02P1\"], \"h.opt.previous\" : np.array(0)})\n",
    "df = frames[my_dates[0].strftime('%Y%m%d')]\n",
    "\n",
    "df = df.merge(previous_holdings, how = 'left', on = 'Barrid')\n",
    "df = clean_nas(df)\n",
    "df.loc[df['SpecRisk'] == 0]['SpecRisk'] = median(df['SpecRisk'])"
   ]
  },
  {
   "cell_type": "markdown",
   "metadata": {},
   "source": [
    "## Build Universe Based on Filters (TODO)\n",
    "\n",
    "In the cell below, implement the function `get_universe` that creates a stock universe by selecting only those companies that have a market capitalization of at least 1 billion dollars **OR** that are in the previous day's holdings, even if on the current day, the company no longer meets the 1 billion dollar criteria.\n",
    "\n",
    "When creating the universe, make sure you use the `.copy()` attribute to create a copy of the data. Also, it is very important to make sure that we are not looking at returns when forming the portfolio! to make this impossible, make sure to drop the column containing the daily return."
   ]
  },
  {
   "cell_type": "code",
   "execution_count": 19,
   "metadata": {},
   "outputs": [],
   "source": [
    "def get_universe(df):\n",
    "    \"\"\"\n",
    "    Create a stock universe based on filters\n",
    "\n",
    "    Parameters\n",
    "    ----------\n",
    "    df : DataFrame\n",
    "        All stocks\n",
    "        \n",
    "    Returns\n",
    "    -------\n",
    "    universe : DataFrame\n",
    "        Selected stocks based on filters\n",
    "    \"\"\"\n",
    "    \n",
    "    # TODO: Implement\n",
    "    \n",
    "    return df[df['IssuerMarketCap']>=1e9].copy(deep=True)\n",
    "\n",
    "universe = get_universe(df)"
   ]
  },
  {
   "cell_type": "code",
   "execution_count": 25,
   "metadata": {},
   "outputs": [
    {
     "data": {
      "text/plain": [
       "'20040102'"
      ]
     },
     "execution_count": 25,
     "metadata": {},
     "output_type": "execute_result"
    }
   ],
   "source": [
    "date = str(int(universe['DataDate'][1])) \n",
    "date"
   ]
  },
  {
   "cell_type": "markdown",
   "metadata": {},
   "source": [
    "## Factors\n",
    "\n",
    "We will now extract both the risk factors and alpha factors. We begin by first getting all the factors using the `factors_from_names` function defined previously."
   ]
  },
  {
   "cell_type": "code",
   "execution_count": 27,
   "metadata": {},
   "outputs": [],
   "source": [
    "all_factors = factors_from_names(list(universe))"
   ]
  },
  {
   "cell_type": "markdown",
   "metadata": {},
   "source": [
    "We will now create the function `setdiff` to just select the factors that we have not defined as alpha factors"
   ]
  },
  {
   "cell_type": "code",
   "execution_count": 22,
   "metadata": {},
   "outputs": [],
   "source": [
    "def setdiff(temp1, temp2): \n",
    "    s = set(temp2)\n",
    "    temp3 = [x for x in temp1 if x not in s]\n",
    "    return temp3"
   ]
  },
  {
   "cell_type": "code",
   "execution_count": 23,
   "metadata": {},
   "outputs": [],
   "source": [
    "risk_factors = setdiff(all_factors, alpha_factors)"
   ]
  },
  {
   "cell_type": "markdown",
   "metadata": {},
   "source": [
    "We will also save the column that contains the previous holdings in a separate variable because we are going to use it later when we perform our portfolio optimization."
   ]
  },
  {
   "cell_type": "code",
   "execution_count": 31,
   "metadata": {},
   "outputs": [],
   "source": [
    "h0 = universe['h.opt.previous']"
   ]
  },
  {
   "cell_type": "markdown",
   "metadata": {},
   "source": [
    "## Matrix of Risk Factor Exposures\n",
    "\n",
    "Our dataframe contains several columns that we'll use as risk factors exposures.  Extract these and put them into a matrix.\n",
    "\n",
    "The data, such as industry category, are already one-hot encoded, but if this were not the case, then using `patsy.dmatrices` would help, as this function extracts categories and performs the one-hot encoding.  We'll practice using this package, as you may find it useful with future data sets.  You could also store the factors in a dataframe if you prefer.\n",
    "\n",
    "#### How to use patsy.dmatrices\n",
    "\n",
    "`patsy.dmatrices` takes in a formula and the dataframe.  The formula tells the function which columns to take.  The formula will look something like this:  \n",
    "`SpecRisk ~ 0 + USFASTD_AERODEF + USFASTD_AIRLINES + ...`  \n",
    "where the variable to the left of the ~ is the \"dependent variable\" and the others to the right are the independent variables (as if we were preparing data to be fit to a model).\n",
    "\n",
    "This just means that the `pasty.dmatrices` function will return two matrix variables, one that contains the single column for the dependent variable `outcome`, and the independent variable columns are stored in a matrix `predictors`.\n",
    "\n",
    "The `predictors` matrix will contain the matrix of risk factors, which is what we want.  We don't actually need the `outcome` matrix; it's just created because that's the way patsy.dmatrices works."
   ]
  },
  {
   "cell_type": "code",
   "execution_count": 32,
   "metadata": {},
   "outputs": [],
   "source": [
    "formula = get_formula(risk_factors, \"SpecRisk\")"
   ]
  },
  {
   "cell_type": "code",
   "execution_count": 33,
   "metadata": {},
   "outputs": [],
   "source": [
    "def model_matrix(formula, data): \n",
    "    outcome, predictors = patsy.dmatrices(formula, data)\n",
    "    return predictors"
   ]
  },
  {
   "cell_type": "code",
   "execution_count": 40,
   "metadata": {},
   "outputs": [],
   "source": [
    "B = model_matrix(formula, universe)\n",
    "BT = B.transpose()"
   ]
  },
  {
   "cell_type": "markdown",
   "metadata": {},
   "source": [
    "## Calculate Specific Variance\n",
    "\n",
    "Notice that the specific risk data is in percent:"
   ]
  },
  {
   "cell_type": "code",
   "execution_count": 35,
   "metadata": {},
   "outputs": [
    {
     "data": {
      "text/plain": [
       "0     9.014505\n",
       "1    11.726327\n",
       "Name: SpecRisk, dtype: float64"
      ]
     },
     "execution_count": 35,
     "metadata": {},
     "output_type": "execute_result"
    }
   ],
   "source": [
    "universe['SpecRisk'][0:2]"
   ]
  },
  {
   "cell_type": "markdown",
   "metadata": {},
   "source": [
    "Therefore, in order to get the specific variance for each stock in the universe we first need to multiply these values by `0.01`  and then square them:"
   ]
  },
  {
   "cell_type": "code",
   "execution_count": 36,
   "metadata": {},
   "outputs": [],
   "source": [
    "specVar = (0.01 * universe['SpecRisk']) ** 2"
   ]
  },
  {
   "cell_type": "markdown",
   "metadata": {},
   "source": [
    "## Factor covariance matrix (TODO)\n",
    "\n",
    "Note that we already have factor covariances from Barra data, which is stored in the variable `covariance`.  `covariance` is a dictionary, where the key is each day's date, and the value is a dataframe containing the factor covariances."
   ]
  },
  {
   "cell_type": "code",
   "execution_count": 52,
   "metadata": {},
   "outputs": [
    {
     "data": {
      "text/html": [
       "<div>\n",
       "<style scoped>\n",
       "    .dataframe tbody tr th:only-of-type {\n",
       "        vertical-align: middle;\n",
       "    }\n",
       "\n",
       "    .dataframe tbody tr th {\n",
       "        vertical-align: top;\n",
       "    }\n",
       "\n",
       "    .dataframe thead th {\n",
       "        text-align: right;\n",
       "    }\n",
       "</style>\n",
       "<table border=\"1\" class=\"dataframe\">\n",
       "  <thead>\n",
       "    <tr style=\"text-align: right;\">\n",
       "      <th>Factor2</th>\n",
       "      <th>USFASTD_1DREVRSL</th>\n",
       "      <th>USFASTD_AERODEF</th>\n",
       "      <th>USFASTD_AIRLINES</th>\n",
       "      <th>USFASTD_ALUMSTEL</th>\n",
       "      <th>USFASTD_APPAREL</th>\n",
       "      <th>USFASTD_AUTO</th>\n",
       "      <th>USFASTD_BANKS</th>\n",
       "      <th>USFASTD_BETA</th>\n",
       "      <th>USFASTD_BEVTOB</th>\n",
       "      <th>USFASTD_BIOLIFE</th>\n",
       "      <th>...</th>\n",
       "      <th>USFASTD_SOFTWARE</th>\n",
       "      <th>USFASTD_SPLTYRET</th>\n",
       "      <th>USFASTD_SPTYCHEM</th>\n",
       "      <th>USFASTD_SPTYSTOR</th>\n",
       "      <th>USFASTD_STREVRSL</th>\n",
       "      <th>USFASTD_TELECOM</th>\n",
       "      <th>USFASTD_TRADECO</th>\n",
       "      <th>USFASTD_TRANSPRT</th>\n",
       "      <th>USFASTD_VALUE</th>\n",
       "      <th>USFASTD_WIRELESS</th>\n",
       "    </tr>\n",
       "    <tr>\n",
       "      <th>Factor1</th>\n",
       "      <th></th>\n",
       "      <th></th>\n",
       "      <th></th>\n",
       "      <th></th>\n",
       "      <th></th>\n",
       "      <th></th>\n",
       "      <th></th>\n",
       "      <th></th>\n",
       "      <th></th>\n",
       "      <th></th>\n",
       "      <th></th>\n",
       "      <th></th>\n",
       "      <th></th>\n",
       "      <th></th>\n",
       "      <th></th>\n",
       "      <th></th>\n",
       "      <th></th>\n",
       "      <th></th>\n",
       "      <th></th>\n",
       "      <th></th>\n",
       "      <th></th>\n",
       "    </tr>\n",
       "  </thead>\n",
       "  <tbody>\n",
       "    <tr>\n",
       "      <td>USFASTD_1DREVRSL</td>\n",
       "      <td>1.958869</td>\n",
       "      <td>-0.613800</td>\n",
       "      <td>0.108757</td>\n",
       "      <td>0.649946</td>\n",
       "      <td>0.189108</td>\n",
       "      <td>0.545869</td>\n",
       "      <td>0.627381</td>\n",
       "      <td>1.602458</td>\n",
       "      <td>-0.214415</td>\n",
       "      <td>-0.489640</td>\n",
       "      <td>...</td>\n",
       "      <td>-0.371124</td>\n",
       "      <td>-0.659108</td>\n",
       "      <td>0.792662</td>\n",
       "      <td>0.040205</td>\n",
       "      <td>0.538114</td>\n",
       "      <td>-0.148810</td>\n",
       "      <td>0.278160</td>\n",
       "      <td>-0.195612</td>\n",
       "      <td>0.023840</td>\n",
       "      <td>2.200702</td>\n",
       "    </tr>\n",
       "    <tr>\n",
       "      <td>USFASTD_AERODEF</td>\n",
       "      <td>0.000000</td>\n",
       "      <td>84.512057</td>\n",
       "      <td>3.251900</td>\n",
       "      <td>0.000000</td>\n",
       "      <td>-5.404318</td>\n",
       "      <td>9.354197</td>\n",
       "      <td>-2.900268</td>\n",
       "      <td>0.000000</td>\n",
       "      <td>-1.254889</td>\n",
       "      <td>0.124481</td>\n",
       "      <td>...</td>\n",
       "      <td>-1.133805</td>\n",
       "      <td>-6.848259</td>\n",
       "      <td>0.000000</td>\n",
       "      <td>-4.341802</td>\n",
       "      <td>0.000000</td>\n",
       "      <td>7.323132</td>\n",
       "      <td>2.049180</td>\n",
       "      <td>4.497279</td>\n",
       "      <td>0.000000</td>\n",
       "      <td>-3.847782</td>\n",
       "    </tr>\n",
       "    <tr>\n",
       "      <td>USFASTD_AIRLINES</td>\n",
       "      <td>0.000000</td>\n",
       "      <td>0.000000</td>\n",
       "      <td>430.544579</td>\n",
       "      <td>0.000000</td>\n",
       "      <td>32.543561</td>\n",
       "      <td>57.710908</td>\n",
       "      <td>-2.517791</td>\n",
       "      <td>0.000000</td>\n",
       "      <td>-9.669289</td>\n",
       "      <td>-29.830376</td>\n",
       "      <td>...</td>\n",
       "      <td>-22.700568</td>\n",
       "      <td>30.657303</td>\n",
       "      <td>0.000000</td>\n",
       "      <td>32.248144</td>\n",
       "      <td>0.000000</td>\n",
       "      <td>-7.044766</td>\n",
       "      <td>0.000000</td>\n",
       "      <td>41.512929</td>\n",
       "      <td>0.000000</td>\n",
       "      <td>8.064760</td>\n",
       "    </tr>\n",
       "    <tr>\n",
       "      <td>USFASTD_ALUMSTEL</td>\n",
       "      <td>0.000000</td>\n",
       "      <td>12.004367</td>\n",
       "      <td>22.629547</td>\n",
       "      <td>230.785280</td>\n",
       "      <td>7.454090</td>\n",
       "      <td>26.154210</td>\n",
       "      <td>-0.907988</td>\n",
       "      <td>0.000000</td>\n",
       "      <td>-4.386402</td>\n",
       "      <td>-17.850923</td>\n",
       "      <td>...</td>\n",
       "      <td>-9.009778</td>\n",
       "      <td>9.505350</td>\n",
       "      <td>0.000000</td>\n",
       "      <td>9.892046</td>\n",
       "      <td>0.000000</td>\n",
       "      <td>-7.663127</td>\n",
       "      <td>23.720857</td>\n",
       "      <td>11.286313</td>\n",
       "      <td>0.000000</td>\n",
       "      <td>-2.794182</td>\n",
       "    </tr>\n",
       "    <tr>\n",
       "      <td>USFASTD_APPAREL</td>\n",
       "      <td>0.000000</td>\n",
       "      <td>0.000000</td>\n",
       "      <td>0.000000</td>\n",
       "      <td>0.000000</td>\n",
       "      <td>146.917731</td>\n",
       "      <td>0.000000</td>\n",
       "      <td>1.560016</td>\n",
       "      <td>0.000000</td>\n",
       "      <td>2.214221</td>\n",
       "      <td>-18.638737</td>\n",
       "      <td>...</td>\n",
       "      <td>-10.197162</td>\n",
       "      <td>61.493029</td>\n",
       "      <td>0.000000</td>\n",
       "      <td>59.322705</td>\n",
       "      <td>0.000000</td>\n",
       "      <td>-13.123748</td>\n",
       "      <td>0.000000</td>\n",
       "      <td>0.000000</td>\n",
       "      <td>0.000000</td>\n",
       "      <td>-8.038847</td>\n",
       "    </tr>\n",
       "    <tr>\n",
       "      <td>...</td>\n",
       "      <td>...</td>\n",
       "      <td>...</td>\n",
       "      <td>...</td>\n",
       "      <td>...</td>\n",
       "      <td>...</td>\n",
       "      <td>...</td>\n",
       "      <td>...</td>\n",
       "      <td>...</td>\n",
       "      <td>...</td>\n",
       "      <td>...</td>\n",
       "      <td>...</td>\n",
       "      <td>...</td>\n",
       "      <td>...</td>\n",
       "      <td>...</td>\n",
       "      <td>...</td>\n",
       "      <td>...</td>\n",
       "      <td>...</td>\n",
       "      <td>...</td>\n",
       "      <td>...</td>\n",
       "      <td>...</td>\n",
       "      <td>...</td>\n",
       "    </tr>\n",
       "    <tr>\n",
       "      <td>USFASTD_TELECOM</td>\n",
       "      <td>0.000000</td>\n",
       "      <td>0.000000</td>\n",
       "      <td>0.000000</td>\n",
       "      <td>0.000000</td>\n",
       "      <td>0.000000</td>\n",
       "      <td>0.000000</td>\n",
       "      <td>0.000000</td>\n",
       "      <td>0.000000</td>\n",
       "      <td>0.000000</td>\n",
       "      <td>0.000000</td>\n",
       "      <td>...</td>\n",
       "      <td>0.000000</td>\n",
       "      <td>0.000000</td>\n",
       "      <td>0.000000</td>\n",
       "      <td>0.000000</td>\n",
       "      <td>0.000000</td>\n",
       "      <td>177.211134</td>\n",
       "      <td>0.000000</td>\n",
       "      <td>0.000000</td>\n",
       "      <td>0.000000</td>\n",
       "      <td>32.036058</td>\n",
       "    </tr>\n",
       "    <tr>\n",
       "      <td>USFASTD_TRADECO</td>\n",
       "      <td>0.000000</td>\n",
       "      <td>0.000000</td>\n",
       "      <td>17.087041</td>\n",
       "      <td>0.000000</td>\n",
       "      <td>4.775210</td>\n",
       "      <td>19.208934</td>\n",
       "      <td>-1.069732</td>\n",
       "      <td>0.000000</td>\n",
       "      <td>-1.900196</td>\n",
       "      <td>-6.874386</td>\n",
       "      <td>...</td>\n",
       "      <td>-8.927783</td>\n",
       "      <td>10.885637</td>\n",
       "      <td>0.000000</td>\n",
       "      <td>12.012648</td>\n",
       "      <td>0.000000</td>\n",
       "      <td>-2.602887</td>\n",
       "      <td>52.137776</td>\n",
       "      <td>6.381360</td>\n",
       "      <td>0.000000</td>\n",
       "      <td>-7.242772</td>\n",
       "    </tr>\n",
       "    <tr>\n",
       "      <td>USFASTD_TRANSPRT</td>\n",
       "      <td>0.000000</td>\n",
       "      <td>0.000000</td>\n",
       "      <td>0.000000</td>\n",
       "      <td>0.000000</td>\n",
       "      <td>5.469374</td>\n",
       "      <td>6.841641</td>\n",
       "      <td>-1.889679</td>\n",
       "      <td>0.000000</td>\n",
       "      <td>-0.446564</td>\n",
       "      <td>-10.427487</td>\n",
       "      <td>...</td>\n",
       "      <td>-5.545739</td>\n",
       "      <td>5.685881</td>\n",
       "      <td>0.000000</td>\n",
       "      <td>3.879782</td>\n",
       "      <td>0.000000</td>\n",
       "      <td>-0.548254</td>\n",
       "      <td>0.000000</td>\n",
       "      <td>72.643475</td>\n",
       "      <td>0.000000</td>\n",
       "      <td>-1.057951</td>\n",
       "    </tr>\n",
       "    <tr>\n",
       "      <td>USFASTD_VALUE</td>\n",
       "      <td>0.000000</td>\n",
       "      <td>0.633504</td>\n",
       "      <td>2.217609</td>\n",
       "      <td>0.682617</td>\n",
       "      <td>0.133026</td>\n",
       "      <td>0.473246</td>\n",
       "      <td>0.294708</td>\n",
       "      <td>0.000000</td>\n",
       "      <td>-0.195602</td>\n",
       "      <td>-1.146802</td>\n",
       "      <td>...</td>\n",
       "      <td>-0.867658</td>\n",
       "      <td>-0.222852</td>\n",
       "      <td>0.092494</td>\n",
       "      <td>-0.889839</td>\n",
       "      <td>0.000000</td>\n",
       "      <td>0.694784</td>\n",
       "      <td>0.102170</td>\n",
       "      <td>0.457129</td>\n",
       "      <td>1.237579</td>\n",
       "      <td>1.610819</td>\n",
       "    </tr>\n",
       "    <tr>\n",
       "      <td>USFASTD_WIRELESS</td>\n",
       "      <td>0.000000</td>\n",
       "      <td>0.000000</td>\n",
       "      <td>0.000000</td>\n",
       "      <td>0.000000</td>\n",
       "      <td>0.000000</td>\n",
       "      <td>0.000000</td>\n",
       "      <td>0.000000</td>\n",
       "      <td>0.000000</td>\n",
       "      <td>0.000000</td>\n",
       "      <td>0.000000</td>\n",
       "      <td>...</td>\n",
       "      <td>0.000000</td>\n",
       "      <td>0.000000</td>\n",
       "      <td>0.000000</td>\n",
       "      <td>0.000000</td>\n",
       "      <td>0.000000</td>\n",
       "      <td>0.000000</td>\n",
       "      <td>0.000000</td>\n",
       "      <td>0.000000</td>\n",
       "      <td>0.000000</td>\n",
       "      <td>218.553900</td>\n",
       "    </tr>\n",
       "  </tbody>\n",
       "</table>\n",
       "<p>84 rows × 84 columns</p>\n",
       "</div>"
      ],
      "text/plain": [
       "Factor2           USFASTD_1DREVRSL  USFASTD_AERODEF  USFASTD_AIRLINES  \\\n",
       "Factor1                                                                 \n",
       "USFASTD_1DREVRSL          1.958869        -0.613800          0.108757   \n",
       "USFASTD_AERODEF           0.000000        84.512057          3.251900   \n",
       "USFASTD_AIRLINES          0.000000         0.000000        430.544579   \n",
       "USFASTD_ALUMSTEL          0.000000        12.004367         22.629547   \n",
       "USFASTD_APPAREL           0.000000         0.000000          0.000000   \n",
       "...                            ...              ...               ...   \n",
       "USFASTD_TELECOM           0.000000         0.000000          0.000000   \n",
       "USFASTD_TRADECO           0.000000         0.000000         17.087041   \n",
       "USFASTD_TRANSPRT          0.000000         0.000000          0.000000   \n",
       "USFASTD_VALUE             0.000000         0.633504          2.217609   \n",
       "USFASTD_WIRELESS          0.000000         0.000000          0.000000   \n",
       "\n",
       "Factor2           USFASTD_ALUMSTEL  USFASTD_APPAREL  USFASTD_AUTO  \\\n",
       "Factor1                                                             \n",
       "USFASTD_1DREVRSL          0.649946         0.189108      0.545869   \n",
       "USFASTD_AERODEF           0.000000        -5.404318      9.354197   \n",
       "USFASTD_AIRLINES          0.000000        32.543561     57.710908   \n",
       "USFASTD_ALUMSTEL        230.785280         7.454090     26.154210   \n",
       "USFASTD_APPAREL           0.000000       146.917731      0.000000   \n",
       "...                            ...              ...           ...   \n",
       "USFASTD_TELECOM           0.000000         0.000000      0.000000   \n",
       "USFASTD_TRADECO           0.000000         4.775210     19.208934   \n",
       "USFASTD_TRANSPRT          0.000000         5.469374      6.841641   \n",
       "USFASTD_VALUE             0.682617         0.133026      0.473246   \n",
       "USFASTD_WIRELESS          0.000000         0.000000      0.000000   \n",
       "\n",
       "Factor2           USFASTD_BANKS  USFASTD_BETA  USFASTD_BEVTOB  \\\n",
       "Factor1                                                         \n",
       "USFASTD_1DREVRSL       0.627381      1.602458       -0.214415   \n",
       "USFASTD_AERODEF       -2.900268      0.000000       -1.254889   \n",
       "USFASTD_AIRLINES      -2.517791      0.000000       -9.669289   \n",
       "USFASTD_ALUMSTEL      -0.907988      0.000000       -4.386402   \n",
       "USFASTD_APPAREL        1.560016      0.000000        2.214221   \n",
       "...                         ...           ...             ...   \n",
       "USFASTD_TELECOM        0.000000      0.000000        0.000000   \n",
       "USFASTD_TRADECO       -1.069732      0.000000       -1.900196   \n",
       "USFASTD_TRANSPRT      -1.889679      0.000000       -0.446564   \n",
       "USFASTD_VALUE          0.294708      0.000000       -0.195602   \n",
       "USFASTD_WIRELESS       0.000000      0.000000        0.000000   \n",
       "\n",
       "Factor2           USFASTD_BIOLIFE  ...  USFASTD_SOFTWARE  USFASTD_SPLTYRET  \\\n",
       "Factor1                            ...                                       \n",
       "USFASTD_1DREVRSL        -0.489640  ...         -0.371124         -0.659108   \n",
       "USFASTD_AERODEF          0.124481  ...         -1.133805         -6.848259   \n",
       "USFASTD_AIRLINES       -29.830376  ...        -22.700568         30.657303   \n",
       "USFASTD_ALUMSTEL       -17.850923  ...         -9.009778          9.505350   \n",
       "USFASTD_APPAREL        -18.638737  ...        -10.197162         61.493029   \n",
       "...                           ...  ...               ...               ...   \n",
       "USFASTD_TELECOM          0.000000  ...          0.000000          0.000000   \n",
       "USFASTD_TRADECO         -6.874386  ...         -8.927783         10.885637   \n",
       "USFASTD_TRANSPRT       -10.427487  ...         -5.545739          5.685881   \n",
       "USFASTD_VALUE           -1.146802  ...         -0.867658         -0.222852   \n",
       "USFASTD_WIRELESS         0.000000  ...          0.000000          0.000000   \n",
       "\n",
       "Factor2           USFASTD_SPTYCHEM  USFASTD_SPTYSTOR  USFASTD_STREVRSL  \\\n",
       "Factor1                                                                  \n",
       "USFASTD_1DREVRSL          0.792662          0.040205          0.538114   \n",
       "USFASTD_AERODEF           0.000000         -4.341802          0.000000   \n",
       "USFASTD_AIRLINES          0.000000         32.248144          0.000000   \n",
       "USFASTD_ALUMSTEL          0.000000          9.892046          0.000000   \n",
       "USFASTD_APPAREL           0.000000         59.322705          0.000000   \n",
       "...                            ...               ...               ...   \n",
       "USFASTD_TELECOM           0.000000          0.000000          0.000000   \n",
       "USFASTD_TRADECO           0.000000         12.012648          0.000000   \n",
       "USFASTD_TRANSPRT          0.000000          3.879782          0.000000   \n",
       "USFASTD_VALUE             0.092494         -0.889839          0.000000   \n",
       "USFASTD_WIRELESS          0.000000          0.000000          0.000000   \n",
       "\n",
       "Factor2           USFASTD_TELECOM  USFASTD_TRADECO  USFASTD_TRANSPRT  \\\n",
       "Factor1                                                                \n",
       "USFASTD_1DREVRSL        -0.148810         0.278160         -0.195612   \n",
       "USFASTD_AERODEF          7.323132         2.049180          4.497279   \n",
       "USFASTD_AIRLINES        -7.044766         0.000000         41.512929   \n",
       "USFASTD_ALUMSTEL        -7.663127        23.720857         11.286313   \n",
       "USFASTD_APPAREL        -13.123748         0.000000          0.000000   \n",
       "...                           ...              ...               ...   \n",
       "USFASTD_TELECOM        177.211134         0.000000          0.000000   \n",
       "USFASTD_TRADECO         -2.602887        52.137776          6.381360   \n",
       "USFASTD_TRANSPRT        -0.548254         0.000000         72.643475   \n",
       "USFASTD_VALUE            0.694784         0.102170          0.457129   \n",
       "USFASTD_WIRELESS         0.000000         0.000000          0.000000   \n",
       "\n",
       "Factor2           USFASTD_VALUE  USFASTD_WIRELESS  \n",
       "Factor1                                            \n",
       "USFASTD_1DREVRSL       0.023840          2.200702  \n",
       "USFASTD_AERODEF        0.000000         -3.847782  \n",
       "USFASTD_AIRLINES       0.000000          8.064760  \n",
       "USFASTD_ALUMSTEL       0.000000         -2.794182  \n",
       "USFASTD_APPAREL        0.000000         -8.038847  \n",
       "...                         ...               ...  \n",
       "USFASTD_TELECOM        0.000000         32.036058  \n",
       "USFASTD_TRADECO        0.000000         -7.242772  \n",
       "USFASTD_TRANSPRT       0.000000         -1.057951  \n",
       "USFASTD_VALUE          1.237579          1.610819  \n",
       "USFASTD_WIRELESS       0.000000        218.553900  \n",
       "\n",
       "[84 rows x 84 columns]"
      ]
     },
     "execution_count": 52,
     "metadata": {},
     "output_type": "execute_result"
    }
   ],
   "source": [
    "covariance['20040102'].head()\n",
    "\n",
    "covariance['20040102'].pivot(index='Factor1', columns='Factor2', values='VarCovar').fillna(0)"
   ]
  },
  {
   "cell_type": "markdown",
   "metadata": {},
   "source": [
    "In the code below, implement the function `diagonal_factor_cov` to create the factor covariance matrix. Note that the covariances are given in percentage units squared.  Therefore you must re-scale them appropriately so that they're in decimals squared. Use the given `colnames` function to get the column names from `B`. \n",
    "\n",
    "When creating factor covariance matrix, you can store the factor variances and covariances, or just store the factor variances.  Try both, and see if you notice any differences."
   ]
  },
  {
   "cell_type": "code",
   "execution_count": 38,
   "metadata": {},
   "outputs": [],
   "source": [
    "def colnames(B):\n",
    "    if type(B) == patsy.design_info.DesignMatrix: \n",
    "        return B.design_info.column_names\n",
    "    if type(B) == pandas.core.frame.DataFrame: \n",
    "        return B.columns.tolist()\n",
    "    return None"
   ]
  },
  {
   "cell_type": "code",
   "execution_count": 53,
   "metadata": {},
   "outputs": [],
   "source": [
    "def diagonal_factor_cov(date, B):\n",
    "    \"\"\"\n",
    "    Create the factor covariance matrix\n",
    "\n",
    "    Parameters\n",
    "    ----------\n",
    "    date : string\n",
    "           date. For example 20040102\n",
    "        \n",
    "    B : patsy.design_info.DesignMatrix OR pandas.core.frame.DataFrame\n",
    "        Matrix of Risk Factors\n",
    "        \n",
    "    Returns\n",
    "    -------\n",
    "    Fm : Numpy ndarray\n",
    "        factor covariance matrix\n",
    "    \"\"\"\n",
    "    \n",
    "    # TODO: Implement\n",
    "    cov_df = covariance[date]\n",
    "    col_names = colnames(B)\n",
    "    cov_df_pivoted = cov_df.pivot(index='Factor1', columns='Factor2', values='VarCovar').fillna(0)\n",
    "    cov_df_pivoted = cov_df_pivoted.reindex(col_names, axis='columns').reindex(col_names, axis='rows')\n",
    "    \n",
    "    Fm = cov_df_pivoted.to_numpy() \n",
    "    return Fm\n",
    "\n",
    "Fvar = diagonal_factor_cov(date, B)"
   ]
  },
  {
   "cell_type": "code",
   "execution_count": 55,
   "metadata": {},
   "outputs": [
    {
     "data": {
      "text/plain": [
       "(77, 77)"
      ]
     },
     "execution_count": 55,
     "metadata": {},
     "output_type": "execute_result"
    }
   ],
   "source": [
    "Fvar.shape"
   ]
  },
  {
   "cell_type": "markdown",
   "metadata": {},
   "source": [
    "## Transaction Costs\n",
    "\n",
    "To get the transaction cost, or slippage, we have to multiply the price change due to market impact by the amount of dollars traded:\n",
    "\n",
    "$$\n",
    "\\mbox{tcost_{i,t}} = \\% \\Delta \\mbox{price}_{i,t} \\times \\mbox{trade}_{i,t}\n",
    "$$\n",
    "\n",
    "In summation notation it looks like this:  \n",
    "$$\n",
    "\\mbox{tcost}_{i,t} = \\sum_i^{N} \\lambda_{i,t} (h_{i,t} - h_{i,t-1})^2\n",
    "$$  \n",
    "where\n",
    "$$\n",
    "\\lambda_{i,t} = \\frac{1}{10\\times \\mbox{ADV}_{i,t}}\n",
    "$$\n",
    "\n",
    "Note that since we're dividing by ADV, we'll want to handle cases when ADV is missing or zero.  In those instances, we can set ADV to a small positive number, such as 10,000, which, in practice assumes that the stock is illiquid. In the code below if there is no volume information we assume the asset is illiquid."
   ]
  },
  {
   "cell_type": "code",
   "execution_count": 56,
   "metadata": {},
   "outputs": [],
   "source": [
    "def get_lambda(universe, composite_volume_column = 'ADTCA_30'):\n",
    "    universe.loc[np.isnan(universe[composite_volume_column]), composite_volume_column] = 1.0e4\n",
    "    universe.loc[universe[composite_volume_column] == 0, composite_volume_column] = 1.0e4 \n",
    "\n",
    "    adv = universe[composite_volume_column]\n",
    "    \n",
    "    return 0.1 / adv\n",
    "\n",
    "Lambda = get_lambda(universe)"
   ]
  },
  {
   "cell_type": "markdown",
   "metadata": {},
   "source": [
    "## Alpha Combination (TODO)\n",
    "\n",
    "In the code below create a matrix of alpha factors and return it from the function `get_B_alpha`. Create this matrix in the same way you created the matrix of risk factors, i.e. using the `get_formula` and `model_matrix` functions we have defined above. Feel free to go back and look at the previous code."
   ]
  },
  {
   "cell_type": "code",
   "execution_count": 59,
   "metadata": {},
   "outputs": [],
   "source": [
    "def get_B_alpha(alpha_factors, universe):\n",
    "    # TODO: Implement\n",
    "    formula = get_formula(alpha_factors, \"SpecRisk\")\n",
    "    B_alpha = model_matrix(formula, universe)\n",
    "    \n",
    "    return B_alpha\n",
    "\n",
    "B_alpha = get_B_alpha(alpha_factors, universe)"
   ]
  },
  {
   "cell_type": "markdown",
   "metadata": {},
   "source": [
    "Now that you have the matrix containing the alpha factors we will combine them by adding its rows. By doing this we will collapse the `B_alpha` matrix into a single alpha vector. We'll multiply by `1e-4` so that the expression of expected portfolio return, $\\alpha^T \\mathbf{h}$, is in dollar units. "
   ]
  },
  {
   "cell_type": "code",
   "execution_count": 60,
   "metadata": {},
   "outputs": [],
   "source": [
    "def get_alpha_vec(B_alpha):\n",
    "    \"\"\"\n",
    "    Create an alpha vecrtor\n",
    "\n",
    "    Parameters\n",
    "    ----------        \n",
    "    B_alpha : patsy.design_info.DesignMatrix \n",
    "        Matrix of Alpha Factors\n",
    "        \n",
    "    Returns\n",
    "    -------\n",
    "    alpha_vec : patsy.design_info.DesignMatrix \n",
    "        alpha vecrtor\n",
    "    \"\"\"\n",
    "    \n",
    "    # TODO: Implement\n",
    "    scale = 1e-4\n",
    "    return scale * np.sum(B_alpha, axis=1)\n",
    "\n",
    "alpha_vec = get_alpha_vec(B_alpha)"
   ]
  },
  {
   "cell_type": "markdown",
   "metadata": {},
   "source": [
    "#### Optional Challenge\n",
    "\n",
    "You can also try to a more sophisticated method of alpha combination, by choosing the holding for each alpha based on the same metric of its performance, such as the factor returns, or sharpe ratio.  To make this more realistic, you can calculate a rolling average of the sharpe ratio, which is updated for each day.  Remember to only use data that occurs prior to the date of each optimization, and not data that occurs in the future.  Also, since factor returns and sharpe ratios may be negative, consider using a `max` function to give the holdings a lower bound of zero."
   ]
  },
  {
   "cell_type": "markdown",
   "metadata": {},
   "source": [
    "## Objective function (TODO)\n",
    "\n",
    "The objective function is given by:\n",
    "\n",
    "$$\n",
    "f(\\mathbf{h}) = \\frac{1}{2}\\kappa \\mathbf{h}_t^T\\mathbf{Q}^T\\mathbf{Q}\\mathbf{h}_t + \\frac{1}{2} \\kappa \\mathbf{h}_t^T \\mathbf{S} \\mathbf{h}_t - \\mathbf{\\alpha}^T \\mathbf{h}_t + (\\mathbf{h}_{t} - \\mathbf{h}_{t-1})^T \\mathbf{\\Lambda} (\\mathbf{h}_{t} - \\mathbf{h}_{t-1})\n",
    "$$\n",
    "\n",
    "Where the terms correspond to: factor risk + idiosyncratic risk - expected portfolio return + transaction costs, respectively. We should also note that $\\textbf{Q}^T\\textbf{Q}$ is defined to be the same as $\\textbf{BFB}^T$.  Review the lessons if you need a refresher of how we get $\\textbf{Q}$.\n",
    "\n",
    "Our objective is to minimize this objective function. To do this, we will use Scipy's optimization function:\n",
    "\n",
    "`scipy.optimize.fmin_l_bfgs_b(func, initial_guess, func_gradient)`\n",
    "\n",
    "where:\n",
    "\n",
    "* **func** : is the function we want to minimize\n",
    "\n",
    "* **initial_guess** : is out initial guess\n",
    "\n",
    "* **func_gradient** : is the gradient of the function we want to minimize\n",
    "\n",
    "So, in order to use the `scipy.optimize.fmin_l_bfgs_b` function we first need to define its parameters.\n",
    "\n",
    "In the code below implement the function `obj_func(h)` that corresponds to the objective function above that we want to minimize. We will set the risk aversion to be `1.0e-6`."
   ]
  },
  {
   "cell_type": "code",
   "execution_count": 61,
   "metadata": {},
   "outputs": [],
   "source": [
    "risk_aversion = 1.0e-6\n",
    "\n",
    "def get_obj_func(h0, risk_aversion, Q, specVar, alpha_vec, Lambda): \n",
    "    def obj_func(h):\n",
    "        # TODO: Implement\n",
    "        f = 0.5 * risk_aversion * np.sum(np.dot(Q, h) ** 2) + \\\n",
    "            0.5 * risk_aversion * np.dot(h**2, specVar) - \\\n",
    "            np.dot(alpha_vec, h) + \\\n",
    "            np.sum(np.dot(Lambda, (h-h0) ** 2))\n",
    "        return f\n",
    "    \n",
    "    return obj_func"
   ]
  },
  {
   "cell_type": "markdown",
   "metadata": {},
   "source": [
    "## Gradient (TODO)\n",
    "\n",
    "Now that we can generate the objective function using `get_obj_func`, we can now create a similar function with its gradient. The reason we're interested in calculating the gradient is so that we can tell the optimizer in which direction, and how much, it should shift the portfolio holdings in order to improve the objective function (minimize variance, minimize transaction cost, and maximize expected portfolio return).\n",
    "\n",
    "Before we implement the function we first need to know what the gradient looks like. The gradient, or derivative of the objective function, with respect to the portfolio holdings h, is given by:  \n",
    "\n",
    "$$\n",
    "f'(\\mathbf{h}) = \\frac{1}{2}\\kappa (2\\mathbf{Q}^T\\mathbf{Qh}) + \\frac{1}{2}\\kappa (2\\mathbf{Sh}) - \\mathbf{\\alpha} + 2(\\mathbf{h}_{t} - \\mathbf{h}_{t-1}) \\mathbf{\\Lambda}\n",
    "$$\n",
    "\n",
    "In the code below, implement the function `grad(h)` that corresponds to the function of the gradient given above."
   ]
  },
  {
   "cell_type": "code",
   "execution_count": 64,
   "metadata": {},
   "outputs": [],
   "source": [
    "def get_grad_func(h0, risk_aversion, Q, QT, specVar, alpha_vec, Lambda):\n",
    "    def grad_func(h):\n",
    "        # TODO: Implement\n",
    "        g = risk_aversion * np.matmul(QT, np.matmul(Q, h)) + \\\n",
    "            risk_aversion * specVar * h - \\\n",
    "            alpha_vec + 2 * (h-h0) * Lambda\n",
    "        return np.asarray(g)\n",
    "    \n",
    "    return grad_func"
   ]
  },
  {
   "cell_type": "markdown",
   "metadata": {},
   "source": [
    "## Optimize (TODO)\n",
    "\n",
    "Now that we can generate the objective function using `get_obj_func`, and its corresponding gradient using `get_grad_func` we are ready to minimize the objective function using Scipy's optimization function. For this, we will use out initial holdings as our `initial_guess` parameter.\n",
    "\n",
    "In the cell below, implement the function `get_h_star` that optimizes the objective function. Use the objective function (`obj_func`) and gradient function (`grad_func`) provided within `get_h_star` to optimize the objective function using the `scipy.optimize.fmin_l_bfgs_b` function."
   ]
  },
  {
   "cell_type": "code",
   "execution_count": 65,
   "metadata": {},
   "outputs": [],
   "source": [
    "risk_aversion = 1.0e-6\n",
    "\n",
    "Q = np.matmul(scipy.linalg.sqrtm(Fvar), BT)\n",
    "QT = Q.transpose()\n",
    "\n",
    "def get_h_star(risk_aversion, Q, QT, specVar, alpha_vec, h0, Lambda):\n",
    "    \"\"\"\n",
    "    Optimize the objective function\n",
    "\n",
    "    Parameters\n",
    "    ----------        \n",
    "    risk_aversion : int or float \n",
    "        Trader's risk aversion\n",
    "        \n",
    "    Q : patsy.design_info.DesignMatrix \n",
    "        Q Matrix\n",
    "        \n",
    "    QT : patsy.design_info.DesignMatrix \n",
    "        Transpose of the Q Matrix\n",
    "        \n",
    "    specVar: Pandas Series \n",
    "        Specific Variance\n",
    "        \n",
    "    alpha_vec: patsy.design_info.DesignMatrix \n",
    "        alpha vector\n",
    "        \n",
    "    h0 : Pandas Series  \n",
    "        initial holdings\n",
    "        \n",
    "    Lambda : Pandas Series  \n",
    "        Lambda\n",
    "        \n",
    "    Returns\n",
    "    -------\n",
    "    optimizer_result[0]: Numpy ndarray \n",
    "        optimized holdings\n",
    "    \"\"\"\n",
    "    obj_func = get_obj_func(h0, risk_aversion, Q, specVar, alpha_vec, Lambda)\n",
    "    grad_func = get_grad_func(h0, risk_aversion, Q, QT, specVar, alpha_vec, Lambda)\n",
    "    \n",
    "    # TODO: Implement \n",
    "    optimizer_result = scipy.optimize.fmin_l_bfgs_b(obj_func, h0, fprime=grad_func)\n",
    "    return optimizer_result[0]\n",
    "\n",
    "h_star = get_h_star(risk_aversion, Q, QT, specVar, alpha_vec, h0, Lambda)"
   ]
  },
  {
   "cell_type": "markdown",
   "metadata": {},
   "source": [
    "After we have optimized our objective function we can now use, `h_star` to create our optimal portfolio:"
   ]
  },
  {
   "cell_type": "code",
   "execution_count": 66,
   "metadata": {},
   "outputs": [],
   "source": [
    "opt_portfolio = pd.DataFrame(data = {\"Barrid\" : universe['Barrid'], \"h.opt\" : h_star})"
   ]
  },
  {
   "cell_type": "markdown",
   "metadata": {},
   "source": [
    "## Risk Exposures (TODO)\n",
    "\n",
    "We can also use `h_star` to calculate our portfolio's risk and alpha exposures.\n",
    "\n",
    "In the cells below implement the functions `get_risk_exposures` and `get_portfolio_alpha_exposure` that calculate the portfolio's risk and alpha exposures, respectively."
   ]
  },
  {
   "cell_type": "code",
   "execution_count": 83,
   "metadata": {},
   "outputs": [],
   "source": [
    "def get_risk_exposures(B, BT, h_star):\n",
    "    \"\"\"\n",
    "    Calculate portfolio's Risk Exposure\n",
    "\n",
    "    Parameters\n",
    "    ----------\n",
    "    B : patsy.design_info.DesignMatrix \n",
    "        Matrix of Risk Factors\n",
    "        \n",
    "    BT : patsy.design_info.DesignMatrix \n",
    "        Transpose of Matrix of Risk Factors\n",
    "        \n",
    "    h_star: Numpy ndarray \n",
    "        optimized holdings\n",
    "        \n",
    "    Returns\n",
    "    -------\n",
    "    risk_exposures : Pandas Series\n",
    "        Risk Exposures\n",
    "    \"\"\"\n",
    "    \n",
    "    # TODO: Implement\n",
    "        \n",
    "    return pd.Series(np.matmul(BT, h_star), index = colnames(B))\n",
    "\n",
    "risk_exposures = get_risk_exposures(B, BT, h_star)"
   ]
  },
  {
   "cell_type": "code",
   "execution_count": 70,
   "metadata": {},
   "outputs": [],
   "source": [
    "def get_portfolio_alpha_exposure(B_alpha, h_star):\n",
    "    \"\"\"\n",
    "    Calculate portfolio's Alpha Exposure\n",
    "\n",
    "    Parameters\n",
    "    ----------\n",
    "    B_alpha : patsy.design_info.DesignMatrix \n",
    "        Matrix of Alpha Factors\n",
    "        \n",
    "    h_star: Numpy ndarray \n",
    "        optimized holdings\n",
    "        \n",
    "    Returns\n",
    "    -------\n",
    "    alpha_exposures : Pandas Series\n",
    "        Alpha Exposures\n",
    "    \"\"\"\n",
    "    \n",
    "    # TODO: Implement\n",
    "    \n",
    "    return pd.Series(np.matmul(B_alpha.transpose(), h_star), index = colnames(B_alpha))\n",
    "\n",
    "portfolio_alpha_exposure = get_portfolio_alpha_exposure(B_alpha, h_star)"
   ]
  },
  {
   "cell_type": "markdown",
   "metadata": {},
   "source": [
    "## Transaction Costs (TODO)\n",
    "\n",
    "We can also use `h_star` to calculate our total transaction costs:\n",
    "$$\n",
    "\\mbox{tcost} = \\sum_i^{N} \\lambda_{i} (h_{i,t} - h_{i,t-1})^2\n",
    "$$\n",
    "\n",
    "In the cell below, implement the function `get_total_transaction_costs` that calculates the total transaction costs according to the equation above:"
   ]
  },
  {
   "cell_type": "code",
   "execution_count": 72,
   "metadata": {},
   "outputs": [],
   "source": [
    "def get_total_transaction_costs(h0, h_star, Lambda):\n",
    "    \"\"\"\n",
    "    Calculate Total Transaction Costs\n",
    "\n",
    "    Parameters\n",
    "    ----------\n",
    "    h0 : Pandas Series\n",
    "        initial holdings (before optimization)\n",
    "        \n",
    "    h_star: Numpy ndarray \n",
    "        optimized holdings\n",
    "        \n",
    "    Lambda : Pandas Series  \n",
    "        Lambda\n",
    "        \n",
    "    Returns\n",
    "    -------\n",
    "    total_transaction_costs : float\n",
    "        Total Transaction Costs\n",
    "    \"\"\"\n",
    "    \n",
    "    # TODO: Implement\n",
    "    \n",
    "    return np.dot(Lambda * (h_star - h0)**2)\n",
    "\n",
    "total_transaction_costs = get_total_transaction_costs(h0, h_star, Lambda)"
   ]
  },
  {
   "cell_type": "markdown",
   "metadata": {},
   "source": [
    "## Putting It All Together\n",
    "\n",
    "We can now take all the above functions we created above and use them to create a single function, `form_optimal_portfolio` that returns the optimal portfolio, the risk and alpha exposures, and the total transactions costs."
   ]
  },
  {
   "cell_type": "code",
   "execution_count": 73,
   "metadata": {},
   "outputs": [],
   "source": [
    "def form_optimal_portfolio(df, previous, risk_aversion):\n",
    "    df = df.merge(previous, how = 'left', on = 'Barrid')\n",
    "    df = clean_nas(df)\n",
    "    df.loc[df['SpecRisk'] == 0]['SpecRisk'] = median(df['SpecRisk'])\n",
    "  \n",
    "    universe = get_universe(df)\n",
    "    date = str(int(universe['DataDate'][1]))\n",
    "  \n",
    "    all_factors = factors_from_names(list(universe))\n",
    "    risk_factors = setdiff(all_factors, alpha_factors)\n",
    "  \n",
    "    h0 = universe['h.opt.previous']\n",
    "  \n",
    "    B = model_matrix(get_formula(risk_factors, \"SpecRisk\"), universe)\n",
    "    BT = B.transpose()\n",
    "  \n",
    "    specVar = (0.01 * universe['SpecRisk']) ** 2\n",
    "    Fvar = diagonal_factor_cov(date, B)\n",
    "    \n",
    "    Lambda = get_lambda(universe)\n",
    "    B_alpha = get_B_alpha(alpha_factors, universe)\n",
    "    alpha_vec = get_alpha_vec(B_alpha)\n",
    "  \n",
    "    Q = np.matmul(scipy.linalg.sqrtm(Fvar), BT)\n",
    "    QT = Q.transpose()\n",
    "    \n",
    "    h_star = get_h_star(risk_aversion, Q, QT, specVar, alpha_vec, h0, Lambda)\n",
    "    opt_portfolio = pd.DataFrame(data = {\"Barrid\" : universe['Barrid'], \"h.opt\" : h_star})\n",
    "    \n",
    "    risk_exposures = get_risk_exposures(B, BT, h_star)\n",
    "    portfolio_alpha_exposure = get_portfolio_alpha_exposure(B_alpha, h_star)\n",
    "    total_transaction_costs = get_total_transaction_costs(h0, h_star, Lambda)\n",
    "  \n",
    "    return {\n",
    "        \"opt.portfolio\" : opt_portfolio, \n",
    "        \"risk.exposures\" : risk_exposures, \n",
    "        \"alpha.exposures\" : portfolio_alpha_exposure,\n",
    "        \"total.cost\" : total_transaction_costs}"
   ]
  },
  {
   "cell_type": "markdown",
   "metadata": {},
   "source": [
    "## Build tradelist\n",
    "\n",
    "The trade list is the most recent optimal asset holdings minus the previous day's optimal holdings."
   ]
  },
  {
   "cell_type": "code",
   "execution_count": 74,
   "metadata": {},
   "outputs": [],
   "source": [
    "def build_tradelist(prev_holdings, opt_result):\n",
    "    tmp = prev_holdings.merge(opt_result['opt.portfolio'], how='outer', on = 'Barrid')\n",
    "    tmp['h.opt.previous'] = np.nan_to_num(tmp['h.opt.previous'])\n",
    "    tmp['h.opt'] = np.nan_to_num(tmp['h.opt'])\n",
    "    return tmp"
   ]
  },
  {
   "cell_type": "markdown",
   "metadata": {},
   "source": [
    "## Save optimal holdings as previous optimal holdings.\n",
    "\n",
    "As we walk through each day, we'll re-use the column for previous holdings by storing the \"current\" optimal holdings as the \"previous\" optimal holdings."
   ]
  },
  {
   "cell_type": "code",
   "execution_count": 75,
   "metadata": {},
   "outputs": [],
   "source": [
    "def convert_to_previous(result): \n",
    "    prev = result['opt.portfolio']\n",
    "    prev = prev.rename(index=str, columns={\"h.opt\": \"h.opt.previous\"}, copy=True, inplace=False)\n",
    "    return prev"
   ]
  },
  {
   "cell_type": "markdown",
   "metadata": {},
   "source": [
    "## Run the backtest\n",
    "\n",
    "Walk through each day, calculating the optimal portfolio holdings and trade list.  This may take some time, but should finish sooner if you've chosen all the optimizations you learned in the lessons."
   ]
  },
  {
   "cell_type": "code",
   "execution_count": 78,
   "metadata": {},
   "outputs": [
    {
     "name": "stderr",
     "output_type": "stream",
     "text": [
      "\n",
      "Optimizing Portfolio:   0%|          | 0/252 [00:00<?, ?day/s]\u001b[A\n",
      "Optimizing Portfolio:   0%|          | 1/252 [00:31<2:10:39, 31.23s/day]\u001b[A\n",
      "Optimizing Portfolio:   1%|          | 2/252 [01:06<2:14:55, 32.38s/day]\u001b[A\n",
      "Optimizing Portfolio:   1%|          | 3/252 [01:40<2:16:19, 32.85s/day]\u001b[A\n",
      "Optimizing Portfolio:   2%|▏         | 4/252 [02:13<2:15:47, 32.85s/day]\u001b[A\n",
      "Optimizing Portfolio:   2%|▏         | 5/252 [02:46<2:15:45, 32.98s/day]\u001b[A\n",
      "Optimizing Portfolio:   2%|▏         | 6/252 [03:19<2:14:57, 32.92s/day]\u001b[A\n",
      "Optimizing Portfolio:   3%|▎         | 7/252 [03:53<2:15:50, 33.27s/day]\u001b[A\n",
      "Optimizing Portfolio:   3%|▎         | 8/252 [04:24<2:12:35, 32.61s/day]\u001b[A\n",
      "Optimizing Portfolio:   4%|▎         | 9/252 [04:54<2:09:38, 32.01s/day]\u001b[A\n",
      "Optimizing Portfolio:   4%|▍         | 10/252 [05:29<2:12:40, 32.89s/day]\u001b[A\n",
      "Optimizing Portfolio:   4%|▍         | 11/252 [06:10<2:21:28, 35.22s/day]\u001b[A\n",
      "Optimizing Portfolio:   5%|▍         | 12/252 [06:42<2:16:24, 34.10s/day]\u001b[A\n",
      "Optimizing Portfolio:   5%|▌         | 13/252 [07:13<2:13:14, 33.45s/day]\u001b[A\n",
      "Optimizing Portfolio:   6%|▌         | 14/252 [07:45<2:10:44, 32.96s/day]\u001b[A\n",
      "Optimizing Portfolio:   6%|▌         | 15/252 [08:15<2:06:39, 32.06s/day]\u001b[A\n",
      "Optimizing Portfolio:   6%|▋         | 16/252 [08:52<2:12:03, 33.57s/day]\u001b[A\n",
      "Optimizing Portfolio:   7%|▋         | 17/252 [09:30<2:15:57, 34.71s/day]\u001b[A\n",
      "Optimizing Portfolio:   7%|▋         | 18/252 [10:04<2:14:56, 34.60s/day]\u001b[A\n",
      "Optimizing Portfolio:   8%|▊         | 19/252 [10:43<2:18:58, 35.79s/day]\u001b[A\n",
      "Optimizing Portfolio:   8%|▊         | 20/252 [11:18<2:18:12, 35.75s/day]\u001b[A\n",
      "Optimizing Portfolio:   8%|▊         | 21/252 [11:50<2:13:24, 34.65s/day]\u001b[A\n",
      "Optimizing Portfolio:   9%|▊         | 22/252 [12:22<2:09:47, 33.86s/day]\u001b[A\n",
      "Optimizing Portfolio:   9%|▉         | 23/252 [12:55<2:07:54, 33.51s/day]\u001b[A\n",
      "Optimizing Portfolio:  10%|▉         | 24/252 [13:34<2:13:20, 35.09s/day]\u001b[A\n",
      "Optimizing Portfolio:  10%|▉         | 25/252 [14:12<2:15:59, 35.94s/day]\u001b[A\n",
      "Optimizing Portfolio:  10%|█         | 26/252 [14:41<2:07:34, 33.87s/day]\u001b[A\n",
      "Optimizing Portfolio:  11%|█         | 27/252 [15:07<1:58:57, 31.72s/day]\u001b[A\n",
      "Optimizing Portfolio:  11%|█         | 28/252 [15:36<1:54:21, 30.63s/day]\u001b[A\n",
      "Optimizing Portfolio:  12%|█▏        | 29/252 [16:12<2:00:24, 32.40s/day]\u001b[A\n",
      "Optimizing Portfolio:  12%|█▏        | 30/252 [16:40<1:55:15, 31.15s/day]\u001b[A\n",
      "Optimizing Portfolio:  12%|█▏        | 31/252 [17:12<1:54:45, 31.15s/day]\u001b[A\n",
      "Optimizing Portfolio:  13%|█▎        | 32/252 [17:39<1:50:37, 30.17s/day]\u001b[A\n",
      "Optimizing Portfolio:  13%|█▎        | 33/252 [18:10<1:50:51, 30.37s/day]\u001b[A\n",
      "Optimizing Portfolio:  13%|█▎        | 34/252 [18:40<1:49:33, 30.15s/day]\u001b[A\n",
      "Optimizing Portfolio:  14%|█▍        | 35/252 [19:11<1:49:53, 30.39s/day]\u001b[A\n",
      "Optimizing Portfolio:  14%|█▍        | 36/252 [19:43<1:51:49, 31.06s/day]\u001b[A\n",
      "Optimizing Portfolio:  15%|█▍        | 37/252 [20:16<1:53:21, 31.63s/day]\u001b[A\n",
      "Optimizing Portfolio:  15%|█▌        | 38/252 [20:48<1:52:49, 31.63s/day]\u001b[A\n",
      "Optimizing Portfolio:  15%|█▌        | 39/252 [21:20<1:53:00, 31.83s/day]\u001b[A\n",
      "Optimizing Portfolio:  16%|█▌        | 40/252 [21:49<1:49:23, 30.96s/day]\u001b[A\n",
      "Optimizing Portfolio:  16%|█▋        | 41/252 [22:25<1:54:19, 32.51s/day]\u001b[A\n",
      "Optimizing Portfolio:  17%|█▋        | 42/252 [23:03<1:58:47, 33.94s/day]\u001b[A\n",
      "Optimizing Portfolio:  17%|█▋        | 43/252 [23:36<1:57:21, 33.69s/day]\u001b[A\n",
      "Optimizing Portfolio:  17%|█▋        | 44/252 [24:09<1:56:04, 33.48s/day]\u001b[A\n",
      "Optimizing Portfolio:  18%|█▊        | 45/252 [24:50<2:03:38, 35.84s/day]\u001b[A\n",
      "Optimizing Portfolio:  18%|█▊        | 46/252 [25:30<2:07:29, 37.13s/day]\u001b[A\n",
      "Optimizing Portfolio:  19%|█▊        | 47/252 [26:11<2:11:00, 38.35s/day]\u001b[A\n",
      "Optimizing Portfolio:  19%|█▉        | 48/252 [26:48<2:08:42, 37.86s/day]\u001b[A\n",
      "Optimizing Portfolio:  19%|█▉        | 49/252 [27:21<2:03:26, 36.48s/day]\u001b[A\n",
      "Optimizing Portfolio:  20%|█▉        | 50/252 [28:03<2:08:19, 38.11s/day]\u001b[A\n",
      "Optimizing Portfolio:  20%|██        | 51/252 [28:39<2:05:13, 37.38s/day]\u001b[A\n",
      "Optimizing Portfolio:  21%|██        | 52/252 [29:16<2:03:59, 37.20s/day]\u001b[A\n",
      "Optimizing Portfolio:  21%|██        | 53/252 [29:51<2:01:37, 36.67s/day]\u001b[A\n",
      "Optimizing Portfolio:  21%|██▏       | 54/252 [30:28<2:01:34, 36.84s/day]\u001b[A\n",
      "Optimizing Portfolio:  22%|██▏       | 55/252 [31:05<2:00:57, 36.84s/day]\u001b[A\n",
      "Optimizing Portfolio:  22%|██▏       | 56/252 [31:41<1:59:30, 36.58s/day]\u001b[A\n",
      "Optimizing Portfolio:  23%|██▎       | 57/252 [32:16<1:57:04, 36.02s/day]\u001b[A\n",
      "Optimizing Portfolio:  23%|██▎       | 58/252 [32:50<1:54:35, 35.44s/day]\u001b[A\n",
      "Optimizing Portfolio:  23%|██▎       | 59/252 [33:24<1:52:11, 34.88s/day]\u001b[A\n",
      "Optimizing Portfolio:  24%|██▍       | 60/252 [34:00<1:52:40, 35.21s/day]\u001b[A\n",
      "Optimizing Portfolio:  24%|██▍       | 61/252 [34:29<1:46:49, 33.56s/day]\u001b[A\n",
      "Optimizing Portfolio:  25%|██▍       | 62/252 [35:05<1:48:21, 34.22s/day]\u001b[A\n",
      "Optimizing Portfolio:  25%|██▌       | 63/252 [35:39<1:47:05, 34.00s/day]\u001b[A\n",
      "Optimizing Portfolio:  25%|██▌       | 64/252 [36:07<1:41:30, 32.40s/day]\u001b[A\n",
      "Optimizing Portfolio:  26%|██▌       | 65/252 [36:42<1:43:26, 33.19s/day]\u001b[A\n",
      "Optimizing Portfolio:  26%|██▌       | 66/252 [37:16<1:42:57, 33.21s/day]\u001b[A\n",
      "Optimizing Portfolio:  27%|██▋       | 67/252 [37:48<1:41:18, 32.86s/day]\u001b[A\n",
      "Optimizing Portfolio:  27%|██▋       | 68/252 [38:21<1:41:17, 33.03s/day]\u001b[A\n",
      "Optimizing Portfolio:  27%|██▋       | 69/252 [38:52<1:38:56, 32.44s/day]\u001b[A\n",
      "Optimizing Portfolio:  28%|██▊       | 70/252 [39:24<1:37:58, 32.30s/day]\u001b[A\n",
      "Optimizing Portfolio:  28%|██▊       | 71/252 [39:56<1:36:59, 32.15s/day]\u001b[A\n",
      "Optimizing Portfolio:  29%|██▊       | 72/252 [40:24<1:33:08, 31.05s/day]\u001b[A\n",
      "Optimizing Portfolio:  29%|██▉       | 73/252 [40:56<1:32:54, 31.14s/day]\u001b[A\n",
      "Optimizing Portfolio:  29%|██▉       | 74/252 [41:29<1:34:01, 31.69s/day]\u001b[A\n",
      "Optimizing Portfolio:  30%|██▉       | 75/252 [42:02<1:35:11, 32.27s/day]\u001b[A\n",
      "Optimizing Portfolio:  30%|███       | 76/252 [42:35<1:35:04, 32.41s/day]\u001b[A\n",
      "Optimizing Portfolio:  31%|███       | 77/252 [43:05<1:32:35, 31.74s/day]\u001b[A\n",
      "Optimizing Portfolio:  31%|███       | 78/252 [43:33<1:28:54, 30.66s/day]\u001b[A\n",
      "Optimizing Portfolio:  31%|███▏      | 79/252 [44:04<1:28:27, 30.68s/day]\u001b[A\n",
      "Optimizing Portfolio:  32%|███▏      | 80/252 [44:34<1:27:40, 30.58s/day]\u001b[A\n",
      "Optimizing Portfolio:  32%|███▏      | 81/252 [45:04<1:26:34, 30.38s/day]\u001b[A\n",
      "Optimizing Portfolio:  33%|███▎      | 82/252 [45:32<1:23:50, 29.59s/day]\u001b[A\n",
      "Optimizing Portfolio:  33%|███▎      | 83/252 [46:02<1:23:48, 29.76s/day]\u001b[A\n",
      "Optimizing Portfolio:  33%|███▎      | 84/252 [46:31<1:22:06, 29.32s/day]\u001b[A\n",
      "Optimizing Portfolio:  34%|███▎      | 85/252 [47:04<1:24:57, 30.53s/day]\u001b[A\n",
      "Optimizing Portfolio:  34%|███▍      | 86/252 [47:34<1:23:54, 30.33s/day]\u001b[A\n",
      "Optimizing Portfolio:  35%|███▍      | 87/252 [48:02<1:22:04, 29.84s/day]\u001b[A\n",
      "Optimizing Portfolio:  35%|███▍      | 88/252 [48:31<1:20:40, 29.51s/day]\u001b[A\n",
      "Optimizing Portfolio:  35%|███▌      | 89/252 [1:02:24<12:14:39, 270.42s/day]\u001b[A\n",
      "Optimizing Portfolio:  36%|███▌      | 90/252 [1:02:54<8:55:56, 198.50s/day] \u001b[A\n",
      "Optimizing Portfolio:  36%|███▌      | 91/252 [1:03:22<6:34:52, 147.16s/day]\u001b[A\n",
      "Optimizing Portfolio:  37%|███▋      | 92/252 [1:03:53<4:59:57, 112.48s/day]\u001b[A\n",
      "Optimizing Portfolio:  37%|███▋      | 93/252 [1:04:24<3:53:04, 87.95s/day] \u001b[A\n",
      "Optimizing Portfolio:  37%|███▋      | 94/252 [1:04:54<3:05:34, 70.47s/day]\u001b[A\n",
      "Optimizing Portfolio:  38%|███▊      | 95/252 [1:05:23<2:32:00, 58.09s/day]\u001b[A\n",
      "Optimizing Portfolio:  38%|███▊      | 96/252 [1:05:55<2:10:40, 50.26s/day]\u001b[A\n",
      "Optimizing Portfolio:  38%|███▊      | 97/252 [1:06:27<1:56:02, 44.92s/day]\u001b[A\n",
      "Optimizing Portfolio:  39%|███▉      | 98/252 [1:07:02<1:47:31, 41.90s/day]\u001b[A\n",
      "Optimizing Portfolio:  39%|███▉      | 99/252 [1:07:37<1:41:00, 39.61s/day]\u001b[A\n",
      "Optimizing Portfolio:  40%|███▉      | 100/252 [1:08:12<1:37:01, 38.30s/day]\u001b[A\n",
      "Optimizing Portfolio:  40%|████      | 101/252 [1:08:42<1:30:21, 35.90s/day]\u001b[A\n",
      "Optimizing Portfolio:  40%|████      | 102/252 [1:09:16<1:28:01, 35.21s/day]\u001b[A\n",
      "Optimizing Portfolio:  41%|████      | 103/252 [1:09:45<1:23:09, 33.49s/day]\u001b[A\n",
      "Optimizing Portfolio:  41%|████▏     | 104/252 [1:10:14<1:19:17, 32.15s/day]\u001b[A\n",
      "Optimizing Portfolio:  42%|████▏     | 105/252 [1:10:47<1:19:01, 32.25s/day]\u001b[A\n",
      "Optimizing Portfolio:  42%|████▏     | 106/252 [1:11:20<1:18:55, 32.44s/day]\u001b[A\n",
      "Optimizing Portfolio:  42%|████▏     | 107/252 [1:11:58<1:22:46, 34.25s/day]\u001b[A\n",
      "Optimizing Portfolio:  43%|████▎     | 108/252 [1:12:36<1:24:45, 35.31s/day]\u001b[A\n",
      "Optimizing Portfolio:  43%|████▎     | 109/252 [1:13:09<1:22:18, 34.54s/day]\u001b[A\n",
      "Optimizing Portfolio:  44%|████▎     | 110/252 [1:13:44<1:22:41, 34.94s/day]\u001b[A\n",
      "Optimizing Portfolio:  44%|████▍     | 111/252 [1:14:22<1:23:38, 35.60s/day]\u001b[A\n",
      "Optimizing Portfolio:  44%|████▍     | 112/252 [1:15:00<1:24:56, 36.41s/day]\u001b[A\n",
      "Optimizing Portfolio:  45%|████▍     | 113/252 [1:15:35<1:23:46, 36.16s/day]\u001b[A\n",
      "Optimizing Portfolio:  45%|████▌     | 114/252 [1:16:09<1:21:09, 35.28s/day]\u001b[A\n",
      "Optimizing Portfolio:  46%|████▌     | 115/252 [1:16:44<1:20:46, 35.38s/day]\u001b[A\n",
      "Optimizing Portfolio:  46%|████▌     | 116/252 [1:17:13<1:15:31, 33.32s/day]\u001b[A\n",
      "Optimizing Portfolio:  46%|████▋     | 117/252 [1:17:52<1:18:39, 34.96s/day]\u001b[A\n",
      "Optimizing Portfolio:  47%|████▋     | 118/252 [1:18:24<1:16:20, 34.18s/day]\u001b[A\n",
      "Optimizing Portfolio:  47%|████▋     | 119/252 [1:19:01<1:17:53, 35.14s/day]\u001b[A\n",
      "Optimizing Portfolio:  48%|████▊     | 120/252 [1:19:42<1:21:17, 36.95s/day]\u001b[A\n",
      "Optimizing Portfolio:  48%|████▊     | 121/252 [1:20:18<1:20:00, 36.64s/day]\u001b[A\n",
      "Optimizing Portfolio:  48%|████▊     | 122/252 [1:20:54<1:18:29, 36.23s/day]\u001b[A\n",
      "Optimizing Portfolio:  49%|████▉     | 123/252 [1:21:29<1:17:26, 36.02s/day]\u001b[A\n",
      "Optimizing Portfolio:  49%|████▉     | 124/252 [1:22:01<1:14:14, 34.80s/day]\u001b[A\n",
      "Optimizing Portfolio:  50%|████▉     | 125/252 [1:22:31<1:10:47, 33.45s/day]\u001b[A\n",
      "Optimizing Portfolio:  50%|█████     | 126/252 [1:23:03<1:09:11, 32.95s/day]\u001b[A\n",
      "Optimizing Portfolio:  50%|█████     | 127/252 [1:23:36<1:08:26, 32.85s/day]\u001b[A\n",
      "Optimizing Portfolio:  51%|█████     | 128/252 [1:24:05<1:05:46, 31.83s/day]\u001b[A\n",
      "Optimizing Portfolio:  51%|█████     | 129/252 [1:24:37<1:05:14, 31.83s/day]\u001b[A\n",
      "Optimizing Portfolio:  52%|█████▏    | 130/252 [1:25:07<1:03:35, 31.27s/day]\u001b[A\n",
      "Optimizing Portfolio:  52%|█████▏    | 131/252 [1:25:37<1:02:26, 30.96s/day]\u001b[A\n",
      "Optimizing Portfolio:  52%|█████▏    | 132/252 [1:26:08<1:01:47, 30.90s/day]\u001b[A\n",
      "Optimizing Portfolio:  53%|█████▎    | 133/252 [1:26:38<1:00:58, 30.74s/day]\u001b[A\n",
      "Optimizing Portfolio:  53%|█████▎    | 134/252 [1:27:07<59:19, 30.16s/day]  \u001b[A\n",
      "Optimizing Portfolio:  54%|█████▎    | 135/252 [1:27:35<57:24, 29.44s/day]\u001b[A\n",
      "Optimizing Portfolio:  54%|█████▍    | 136/252 [1:28:03<56:06, 29.02s/day]\u001b[A\n",
      "Optimizing Portfolio:  54%|█████▍    | 137/252 [1:28:32<55:45, 29.09s/day]\u001b[A\n",
      "Optimizing Portfolio:  55%|█████▍    | 138/252 [1:29:05<57:04, 30.04s/day]\u001b[A\n",
      "Optimizing Portfolio:  55%|█████▌    | 139/252 [1:29:33<55:39, 29.55s/day]\u001b[A\n",
      "Optimizing Portfolio:  56%|█████▌    | 140/252 [1:30:02<54:56, 29.43s/day]\u001b[A\n",
      "Optimizing Portfolio:  56%|█████▌    | 141/252 [1:30:32<54:33, 29.49s/day]\u001b[A\n",
      "Optimizing Portfolio:  56%|█████▋    | 142/252 [1:30:58<52:31, 28.65s/day]\u001b[A\n",
      "Optimizing Portfolio:  57%|█████▋    | 143/252 [1:31:28<52:27, 28.88s/day]\u001b[A\n",
      "Optimizing Portfolio:  57%|█████▋    | 144/252 [1:31:58<52:50, 29.36s/day]\u001b[A\n",
      "Optimizing Portfolio:  58%|█████▊    | 145/252 [1:32:29<53:08, 29.80s/day]\u001b[A\n",
      "Optimizing Portfolio:  58%|█████▊    | 146/252 [1:32:59<52:54, 29.94s/day]\u001b[A\n",
      "Optimizing Portfolio:  58%|█████▊    | 147/252 [1:33:29<52:14, 29.85s/day]\u001b[A\n",
      "Optimizing Portfolio:  59%|█████▊    | 148/252 [1:34:04<54:34, 31.48s/day]\u001b[A\n",
      "Optimizing Portfolio:  59%|█████▉    | 149/252 [1:34:36<53:52, 31.39s/day]\u001b[A\n",
      "Optimizing Portfolio:  60%|█████▉    | 150/252 [1:35:09<54:25, 32.02s/day]\u001b[A\n",
      "Optimizing Portfolio:  60%|█████▉    | 151/252 [1:35:44<55:38, 33.05s/day]\u001b[A\n",
      "Optimizing Portfolio:  60%|██████    | 152/252 [1:36:23<57:49, 34.70s/day]\u001b[A\n",
      "Optimizing Portfolio:  61%|██████    | 153/252 [1:36:54<55:22, 33.56s/day]\u001b[A\n",
      "Optimizing Portfolio:  61%|██████    | 154/252 [1:37:27<54:31, 33.38s/day]\u001b[A\n",
      "Optimizing Portfolio:  62%|██████▏   | 155/252 [1:38:01<54:28, 33.69s/day]\u001b[A\n",
      "Optimizing Portfolio:  62%|██████▏   | 156/252 [1:38:35<53:46, 33.61s/day]\u001b[A\n",
      "Optimizing Portfolio:  62%|██████▏   | 157/252 [1:39:06<52:01, 32.86s/day]\u001b[A\n",
      "Optimizing Portfolio:  63%|██████▎   | 158/252 [1:39:41<52:30, 33.52s/day]\u001b[A\n",
      "Optimizing Portfolio:  63%|██████▎   | 159/252 [1:40:13<51:04, 32.95s/day]\u001b[A\n",
      "Optimizing Portfolio:  63%|██████▎   | 160/252 [1:40:43<49:31, 32.30s/day]\u001b[A\n",
      "Optimizing Portfolio:  64%|██████▍   | 161/252 [1:41:12<47:25, 31.27s/day]\u001b[A\n",
      "Optimizing Portfolio:  64%|██████▍   | 162/252 [1:41:44<47:11, 31.46s/day]\u001b[A\n",
      "Optimizing Portfolio:  65%|██████▍   | 163/252 [1:42:16<46:56, 31.64s/day]\u001b[A\n",
      "Optimizing Portfolio:  65%|██████▌   | 164/252 [1:42:49<46:51, 31.95s/day]\u001b[A\n",
      "Optimizing Portfolio:  65%|██████▌   | 165/252 [1:43:20<45:59, 31.72s/day]\u001b[A\n",
      "Optimizing Portfolio:  66%|██████▌   | 166/252 [1:43:52<45:36, 31.82s/day]\u001b[A\n",
      "Optimizing Portfolio:  66%|██████▋   | 167/252 [1:44:25<45:44, 32.29s/day]\u001b[A\n",
      "Optimizing Portfolio:  67%|██████▋   | 168/252 [1:44:57<44:51, 32.04s/day]\u001b[A\n",
      "Optimizing Portfolio:  67%|██████▋   | 169/252 [1:45:31<45:21, 32.79s/day]\u001b[A\n",
      "Optimizing Portfolio:  67%|██████▋   | 170/252 [1:46:04<44:53, 32.85s/day]\u001b[A\n",
      "Optimizing Portfolio:  68%|██████▊   | 171/252 [1:46:40<45:33, 33.75s/day]\u001b[A\n",
      "Optimizing Portfolio:  68%|██████▊   | 172/252 [1:47:15<45:23, 34.04s/day]\u001b[A\n",
      "Optimizing Portfolio:  69%|██████▊   | 173/252 [1:47:50<45:22, 34.46s/day]\u001b[A\n",
      "Optimizing Portfolio:  69%|██████▉   | 174/252 [1:48:22<43:39, 33.58s/day]\u001b[A\n",
      "Optimizing Portfolio:  69%|██████▉   | 175/252 [1:48:52<41:44, 32.53s/day]\u001b[A\n",
      "Optimizing Portfolio:  70%|██████▉   | 176/252 [1:49:28<42:25, 33.49s/day]\u001b[A\n",
      "Optimizing Portfolio:  70%|███████   | 177/252 [1:50:03<42:41, 34.15s/day]\u001b[A\n",
      "Optimizing Portfolio:  71%|███████   | 178/252 [1:50:36<41:27, 33.61s/day]\u001b[A\n",
      "Optimizing Portfolio:  71%|███████   | 179/252 [1:51:09<40:39, 33.42s/day]\u001b[A\n",
      "Optimizing Portfolio:  71%|███████▏  | 180/252 [1:51:42<39:55, 33.27s/day]\u001b[A\n",
      "Optimizing Portfolio:  72%|███████▏  | 181/252 [1:52:16<39:42, 33.55s/day]\u001b[A\n",
      "Optimizing Portfolio:  72%|███████▏  | 182/252 [1:52:46<37:53, 32.48s/day]\u001b[A\n",
      "Optimizing Portfolio:  73%|███████▎  | 183/252 [1:53:19<37:41, 32.77s/day]\u001b[A\n",
      "Optimizing Portfolio:  73%|███████▎  | 184/252 [1:53:49<36:09, 31.91s/day]\u001b[A\n",
      "Optimizing Portfolio:  73%|███████▎  | 185/252 [1:54:18<34:29, 30.88s/day]\u001b[A\n",
      "Optimizing Portfolio:  74%|███████▍  | 186/252 [1:54:47<33:33, 30.51s/day]\u001b[A\n",
      "Optimizing Portfolio:  74%|███████▍  | 187/252 [1:55:20<33:41, 31.11s/day]\u001b[A\n",
      "Optimizing Portfolio:  75%|███████▍  | 188/252 [1:55:51<33:09, 31.09s/day]\u001b[A\n",
      "Optimizing Portfolio:  75%|███████▌  | 189/252 [1:56:21<32:27, 30.92s/day]\u001b[A\n",
      "Optimizing Portfolio:  75%|███████▌  | 190/252 [1:56:53<32:13, 31.19s/day]\u001b[A\n",
      "Optimizing Portfolio:  76%|███████▌  | 191/252 [1:57:24<31:35, 31.08s/day]\u001b[A\n",
      "Optimizing Portfolio:  76%|███████▌  | 192/252 [1:57:54<30:40, 30.68s/day]\u001b[A\n",
      "Optimizing Portfolio:  77%|███████▋  | 193/252 [1:58:23<29:49, 30.34s/day]\u001b[A\n",
      "Optimizing Portfolio:  77%|███████▋  | 194/252 [1:58:57<30:17, 31.33s/day]\u001b[A\n",
      "Optimizing Portfolio:  77%|███████▋  | 195/252 [1:59:29<30:03, 31.63s/day]\u001b[A\n",
      "Optimizing Portfolio:  78%|███████▊  | 196/252 [2:00:02<29:44, 31.86s/day]\u001b[A\n",
      "Optimizing Portfolio:  78%|███████▊  | 197/252 [2:00:37<30:02, 32.78s/day]\u001b[A\n",
      "Optimizing Portfolio:  79%|███████▊  | 198/252 [2:01:12<30:10, 33.53s/day]\u001b[A\n",
      "Optimizing Portfolio:  79%|███████▉  | 199/252 [2:01:44<29:11, 33.04s/day]\u001b[A\n",
      "Optimizing Portfolio:  79%|███████▉  | 200/252 [2:02:15<28:02, 32.36s/day]\u001b[A\n",
      "Optimizing Portfolio:  80%|███████▉  | 201/252 [2:02:48<27:51, 32.77s/day]\u001b[A\n",
      "Optimizing Portfolio:  80%|████████  | 202/252 [2:03:21<27:21, 32.84s/day]\u001b[A\n",
      "Optimizing Portfolio:  81%|████████  | 203/252 [2:03:54<26:49, 32.84s/day]\u001b[A\n",
      "Optimizing Portfolio:  81%|████████  | 204/252 [2:04:25<25:52, 32.35s/day]\u001b[A\n",
      "Optimizing Portfolio:  81%|████████▏ | 205/252 [2:04:54<24:30, 31.29s/day]\u001b[A\n",
      "Optimizing Portfolio:  82%|████████▏ | 206/252 [2:05:22<23:04, 30.10s/day]\u001b[A\n",
      "Optimizing Portfolio:  82%|████████▏ | 207/252 [2:05:52<22:42, 30.27s/day]\u001b[A\n",
      "Optimizing Portfolio:  83%|████████▎ | 208/252 [2:06:25<22:41, 30.95s/day]\u001b[A\n",
      "Optimizing Portfolio:  83%|████████▎ | 209/252 [2:06:59<22:54, 31.96s/day]\u001b[A\n"
     ]
    },
    {
     "name": "stderr",
     "output_type": "stream",
     "text": [
      "Optimizing Portfolio:  83%|████████▎ | 210/252 [2:07:30<22:10, 31.69s/day]\u001b[A\n",
      "Optimizing Portfolio:  84%|████████▎ | 211/252 [2:08:07<22:48, 33.38s/day]\u001b[A\n",
      "Optimizing Portfolio:  84%|████████▍ | 212/252 [2:08:38<21:44, 32.60s/day]\u001b[A\n",
      "Optimizing Portfolio:  85%|████████▍ | 213/252 [2:09:09<20:48, 32.01s/day]\u001b[A\n",
      "Optimizing Portfolio:  85%|████████▍ | 214/252 [2:09:39<19:53, 31.42s/day]\u001b[A\n",
      "Optimizing Portfolio:  85%|████████▌ | 215/252 [2:10:13<19:50, 32.19s/day]\u001b[A\n",
      "Optimizing Portfolio:  86%|████████▌ | 216/252 [2:10:45<19:19, 32.22s/day]\u001b[A\n",
      "Optimizing Portfolio:  86%|████████▌ | 217/252 [2:11:20<19:18, 33.09s/day]\u001b[A\n",
      "Optimizing Portfolio:  87%|████████▋ | 218/252 [2:11:50<18:10, 32.09s/day]\u001b[A\n",
      "Optimizing Portfolio:  87%|████████▋ | 219/252 [2:12:24<17:55, 32.59s/day]\u001b[A\n",
      "Optimizing Portfolio:  87%|████████▋ | 220/252 [2:12:59<17:45, 33.31s/day]\u001b[A\n",
      "Optimizing Portfolio:  88%|████████▊ | 221/252 [2:13:34<17:26, 33.77s/day]\u001b[A\n",
      "Optimizing Portfolio:  88%|████████▊ | 222/252 [2:14:08<17:00, 34.00s/day]\u001b[A\n",
      "Optimizing Portfolio:  88%|████████▊ | 223/252 [2:14:44<16:43, 34.61s/day]\u001b[A\n",
      "Optimizing Portfolio:  89%|████████▉ | 224/252 [2:15:18<16:05, 34.50s/day]\u001b[A\n",
      "Optimizing Portfolio:  89%|████████▉ | 225/252 [2:15:51<15:17, 33.97s/day]\u001b[A\n",
      "Optimizing Portfolio:  90%|████████▉ | 226/252 [2:16:23<14:24, 33.26s/day]\u001b[A\n",
      "Optimizing Portfolio:  90%|█████████ | 227/252 [2:16:56<13:48, 33.16s/day]\u001b[A\n",
      "Optimizing Portfolio:  90%|█████████ | 228/252 [2:17:30<13:21, 33.40s/day]\u001b[A\n",
      "Optimizing Portfolio:  91%|█████████ | 229/252 [2:18:03<12:46, 33.32s/day]\u001b[A\n",
      "Optimizing Portfolio:  91%|█████████▏| 230/252 [2:18:48<13:29, 36.79s/day]\u001b[A\n",
      "Optimizing Portfolio:  92%|█████████▏| 231/252 [2:19:34<13:51, 39.61s/day]\u001b[A\n",
      "Optimizing Portfolio:  92%|█████████▏| 232/252 [2:20:15<13:20, 40.00s/day]\u001b[A\n",
      "Optimizing Portfolio:  92%|█████████▏| 233/252 [2:20:52<12:23, 39.14s/day]\u001b[A\n",
      "Optimizing Portfolio:  93%|█████████▎| 234/252 [2:21:26<11:18, 37.69s/day]\u001b[A\n",
      "Optimizing Portfolio:  93%|█████████▎| 235/252 [2:22:00<10:18, 36.37s/day]\u001b[A\n",
      "Optimizing Portfolio:  94%|█████████▎| 236/252 [2:22:34<09:34, 35.93s/day]\u001b[A\n",
      "Optimizing Portfolio:  94%|█████████▍| 237/252 [2:23:08<08:46, 35.11s/day]\u001b[A\n",
      "Optimizing Portfolio:  94%|█████████▍| 238/252 [2:23:39<07:55, 33.93s/day]\u001b[A\n",
      "Optimizing Portfolio:  95%|█████████▍| 239/252 [2:24:12<07:18, 33.70s/day]\u001b[A\n",
      "Optimizing Portfolio:  95%|█████████▌| 240/252 [2:24:45<06:40, 33.37s/day]\u001b[A\n",
      "Optimizing Portfolio:  96%|█████████▌| 241/252 [2:25:18<06:07, 33.40s/day]\u001b[A\n",
      "Optimizing Portfolio:  96%|█████████▌| 242/252 [2:25:52<05:36, 33.67s/day]\u001b[A\n",
      "Optimizing Portfolio:  96%|█████████▋| 243/252 [2:26:25<05:01, 33.49s/day]\u001b[A\n",
      "Optimizing Portfolio:  97%|█████████▋| 244/252 [2:26:56<04:20, 32.54s/day]\u001b[A\n",
      "Optimizing Portfolio:  97%|█████████▋| 245/252 [2:27:25<03:41, 31.62s/day]\u001b[A\n",
      "Optimizing Portfolio:  98%|█████████▊| 246/252 [2:27:55<03:06, 31.01s/day]\u001b[A\n",
      "Optimizing Portfolio:  98%|█████████▊| 247/252 [2:28:26<02:34, 31.00s/day]\u001b[A\n",
      "Optimizing Portfolio:  98%|█████████▊| 248/252 [2:28:57<02:04, 31.18s/day]\u001b[A\n",
      "Optimizing Portfolio:  99%|█████████▉| 249/252 [2:29:27<01:32, 30.82s/day]\u001b[A\n",
      "Optimizing Portfolio:  99%|█████████▉| 250/252 [2:29:58<01:01, 30.84s/day]\u001b[A\n",
      "Optimizing Portfolio: 100%|█████████▉| 251/252 [2:30:32<00:31, 31.67s/day]\u001b[A\n",
      "Optimizing Portfolio: 100%|██████████| 252/252 [2:31:03<00:00, 31.40s/day]\u001b[A"
     ]
    }
   ],
   "source": [
    "trades = {}\n",
    "port = {}\n",
    "\n",
    "for dt in tqdm(my_dates, desc='Optimizing Portfolio', unit='day'):\n",
    "    date = dt.strftime('%Y%m%d')\n",
    "\n",
    "    result = form_optimal_portfolio(frames[date], previous_holdings, risk_aversion)\n",
    "    trades[date] = build_tradelist(previous_holdings, result)\n",
    "    port[date] = result\n",
    "    previous_holdings = convert_to_previous(result)"
   ]
  },
  {
   "cell_type": "markdown",
   "metadata": {},
   "source": [
    "## Profit-and-Loss (PnL) attribution (TODO)\n",
    "\n",
    "Profit and Loss is the aggregate realized daily returns of the assets, weighted by the optimal portfolio holdings chosen, and summed up to get the portfolio's profit and loss.\n",
    "\n",
    "The PnL attributed to the alpha factors equals the factor returns times factor exposures for the alpha factors.  \n",
    "\n",
    "$$\n",
    "\\mbox{PnL}_{alpha}= f \\times b_{alpha}\n",
    "$$\n",
    "\n",
    "Similarly, the PnL attributed to the risk factors equals the factor returns times factor exposures of the risk factors.\n",
    "\n",
    "$$\n",
    "\\mbox{PnL}_{risk} = f \\times b_{risk}\n",
    "$$\n",
    "\n",
    "In the code below, in the function `build_pnl_attribution` calculate the PnL attributed to the alpha factors, the PnL attributed to the risk factors, and attribution to cost. "
   ]
  },
  {
   "cell_type": "code",
   "execution_count": 81,
   "metadata": {},
   "outputs": [],
   "source": [
    "## assumes v, w are pandas Series \n",
    "def partial_dot_product(v, w):\n",
    "    common = v.index.intersection(w.index)\n",
    "    return np.sum(v[common] * w[common])\n",
    "\n",
    "def build_pnl_attribution(): \n",
    "\n",
    "    df = pd.DataFrame(index = my_dates)\n",
    "    \n",
    "    for dt in my_dates:\n",
    "        date = dt.strftime('%Y%m%d')\n",
    "\n",
    "        p = port[date]\n",
    "        fr = facret[date]\n",
    "\n",
    "        mf = p['opt.portfolio'].merge(frames[date], how = 'left', on = \"Barrid\")\n",
    "        \n",
    "        mf['DlyReturn'] = wins(mf['DlyReturn'], -0.5, 0.5)\n",
    "        df.at[dt,\"daily.pnl\"] = np.sum(mf['h.opt'] * mf['DlyReturn'])\n",
    "        \n",
    "        # TODO: Implement\n",
    "        f_alpha = p[\"alpha.exposures\"]\n",
    "        f_risk = p[\"risk.exposures\"]\n",
    "        print(f_alpha)\n",
    "        print(f_risk)\n",
    "        df.at[dt,\"attribution.alpha.pnl\"] = partial_dot_product(fr, f_alpha)\n",
    "        df.at[dt,\"attribution.risk.pnl\"] = partial_dot_product(fr, f_risk)\n",
    "        df.at[dt,\"attribution.cost\"] = p[\"total.cost\"]\n",
    "        \n",
    "    return df"
   ]
  },
  {
   "cell_type": "code",
   "execution_count": 82,
   "metadata": {},
   "outputs": [
    {
     "name": "stdout",
     "output_type": "stream",
     "text": [
      "USFASTD_1DREVRSL    2.095871e+06\n",
      "USFASTD_EARNYILD    2.205470e+06\n",
      "USFASTD_VALUE       3.160749e+06\n",
      "USFASTD_SENTMT      1.467107e+06\n",
      "dtype: float64\n",
      "[-2.58619605e-01 -2.48053456e-01 -7.63420072e-01 -2.06342566e-01\n",
      "  3.54956955e-01  1.18269353e+00 -7.50860744e-01 -9.36474095e-01\n",
      " -6.47703080e-01 -2.13724065e-01 -1.36195310e+00  3.33727891e-01\n",
      "  4.23606855e-01  3.54530373e-01 -2.04587674e-03  2.07478895e-01\n",
      " -3.01133598e+00  4.60715319e-01 -4.78896707e-01  3.43962188e-01\n",
      " -6.71182063e-02 -5.69769876e+00 -6.94271343e+00 -1.76677239e+01\n",
      " -8.52769686e-01  1.17403770e+00 -1.18264468e-01  3.02322312e-01\n",
      "  1.14163007e+00 -2.22014551e+01 -1.09756262e+00  4.19487395e-01\n",
      "  5.34812748e-01  2.94128892e-01 -3.17492003e-01 -6.43697557e-01\n",
      "  4.91579900e+00 -1.04947759e+00  1.43558514e+00 -1.33458296e+00\n",
      "  1.38341268e+01  5.27076594e-01  4.19811680e+00  1.26426292e+00\n",
      " -2.02933992e+00  5.62177925e-01 -1.32222573e+01  1.06683593e+01\n",
      " -2.79759670e+00 -5.57754483e-01 -2.96187274e-01 -2.54545658e-01\n",
      " -2.45587199e-01  6.52946174e-01 -3.03470797e-02  3.71734331e-02\n",
      " -2.83788466e-01 -1.21410704e+01  9.40024675e+00 -2.50424116e+00\n",
      " -2.62045214e+00 -6.07282043e-02 -3.19795390e+00  1.47723115e+00\n",
      "  8.76517189e+00  1.22133122e-01  2.90729288e-01 -3.90064718e-01\n",
      " -1.56463142e-01 -1.23240467e-01 -5.94740106e-01  1.19835113e+00\n",
      "  1.85747536e+00  2.75946323e-01 -1.01247195e+00  3.16830309e-01\n",
      "  6.32172668e-01]\n"
     ]
    },
    {
     "ename": "AttributeError",
     "evalue": "'DesignMatrix' object has no attribute 'index'",
     "output_type": "error",
     "traceback": [
      "\u001b[0;31m---------------------------------------------------------------------------\u001b[0m",
      "\u001b[0;31mAttributeError\u001b[0m                            Traceback (most recent call last)",
      "\u001b[0;32m<ipython-input-82-eb076ce31214>\u001b[0m in \u001b[0;36m<module>\u001b[0;34m\u001b[0m\n\u001b[0;32m----> 1\u001b[0;31m \u001b[0mattr\u001b[0m \u001b[0;34m=\u001b[0m \u001b[0mbuild_pnl_attribution\u001b[0m\u001b[0;34m(\u001b[0m\u001b[0;34m)\u001b[0m\u001b[0;34m\u001b[0m\u001b[0;34m\u001b[0m\u001b[0m\n\u001b[0m\u001b[1;32m      2\u001b[0m \u001b[0;34m\u001b[0m\u001b[0m\n\u001b[1;32m      3\u001b[0m \u001b[0;32mfor\u001b[0m \u001b[0mcolumn\u001b[0m \u001b[0;32min\u001b[0m \u001b[0mattr\u001b[0m\u001b[0;34m.\u001b[0m\u001b[0mcolumns\u001b[0m\u001b[0;34m:\u001b[0m\u001b[0;34m\u001b[0m\u001b[0;34m\u001b[0m\u001b[0m\n\u001b[1;32m      4\u001b[0m         \u001b[0mplt\u001b[0m\u001b[0;34m.\u001b[0m\u001b[0mplot\u001b[0m\u001b[0;34m(\u001b[0m\u001b[0mattr\u001b[0m\u001b[0;34m[\u001b[0m\u001b[0mcolumn\u001b[0m\u001b[0;34m]\u001b[0m\u001b[0;34m.\u001b[0m\u001b[0mcumsum\u001b[0m\u001b[0;34m(\u001b[0m\u001b[0;34m)\u001b[0m\u001b[0;34m,\u001b[0m \u001b[0mlabel\u001b[0m\u001b[0;34m=\u001b[0m\u001b[0mcolumn\u001b[0m\u001b[0;34m)\u001b[0m\u001b[0;34m\u001b[0m\u001b[0;34m\u001b[0m\u001b[0m\n\u001b[1;32m      5\u001b[0m \u001b[0mplt\u001b[0m\u001b[0;34m.\u001b[0m\u001b[0mlegend\u001b[0m\u001b[0;34m(\u001b[0m\u001b[0mloc\u001b[0m\u001b[0;34m=\u001b[0m\u001b[0;34m'upper left'\u001b[0m\u001b[0;34m)\u001b[0m\u001b[0;34m\u001b[0m\u001b[0;34m\u001b[0m\u001b[0m\n",
      "\u001b[0;32m<ipython-input-81-0e81b73fb647>\u001b[0m in \u001b[0;36mbuild_pnl_attribution\u001b[0;34m()\u001b[0m\n\u001b[1;32m     25\u001b[0m         \u001b[0mprint\u001b[0m\u001b[0;34m(\u001b[0m\u001b[0mf_risk\u001b[0m\u001b[0;34m)\u001b[0m\u001b[0;34m\u001b[0m\u001b[0;34m\u001b[0m\u001b[0m\n\u001b[1;32m     26\u001b[0m         \u001b[0mdf\u001b[0m\u001b[0;34m.\u001b[0m\u001b[0mat\u001b[0m\u001b[0;34m[\u001b[0m\u001b[0mdt\u001b[0m\u001b[0;34m,\u001b[0m\u001b[0;34m\"attribution.alpha.pnl\"\u001b[0m\u001b[0;34m]\u001b[0m \u001b[0;34m=\u001b[0m \u001b[0mpartial_dot_product\u001b[0m\u001b[0;34m(\u001b[0m\u001b[0mfr\u001b[0m\u001b[0;34m,\u001b[0m \u001b[0mf_alpha\u001b[0m\u001b[0;34m)\u001b[0m\u001b[0;34m\u001b[0m\u001b[0;34m\u001b[0m\u001b[0m\n\u001b[0;32m---> 27\u001b[0;31m         \u001b[0mdf\u001b[0m\u001b[0;34m.\u001b[0m\u001b[0mat\u001b[0m\u001b[0;34m[\u001b[0m\u001b[0mdt\u001b[0m\u001b[0;34m,\u001b[0m\u001b[0;34m\"attribution.risk.pnl\"\u001b[0m\u001b[0;34m]\u001b[0m \u001b[0;34m=\u001b[0m \u001b[0mpartial_dot_product\u001b[0m\u001b[0;34m(\u001b[0m\u001b[0mfr\u001b[0m\u001b[0;34m,\u001b[0m \u001b[0mf_risk\u001b[0m\u001b[0;34m)\u001b[0m\u001b[0;34m\u001b[0m\u001b[0;34m\u001b[0m\u001b[0m\n\u001b[0m\u001b[1;32m     28\u001b[0m         \u001b[0mdf\u001b[0m\u001b[0;34m.\u001b[0m\u001b[0mat\u001b[0m\u001b[0;34m[\u001b[0m\u001b[0mdt\u001b[0m\u001b[0;34m,\u001b[0m\u001b[0;34m\"attribution.cost\"\u001b[0m\u001b[0;34m]\u001b[0m \u001b[0;34m=\u001b[0m \u001b[0mp\u001b[0m\u001b[0;34m[\u001b[0m\u001b[0;34m\"total.cost\"\u001b[0m\u001b[0;34m]\u001b[0m\u001b[0;34m\u001b[0m\u001b[0;34m\u001b[0m\u001b[0m\n\u001b[1;32m     29\u001b[0m \u001b[0;34m\u001b[0m\u001b[0m\n",
      "\u001b[0;32m<ipython-input-81-0e81b73fb647>\u001b[0m in \u001b[0;36mpartial_dot_product\u001b[0;34m(v, w)\u001b[0m\n\u001b[1;32m      1\u001b[0m \u001b[0;31m## assumes v, w are pandas Series\u001b[0m\u001b[0;34m\u001b[0m\u001b[0;34m\u001b[0m\u001b[0;34m\u001b[0m\u001b[0m\n\u001b[1;32m      2\u001b[0m \u001b[0;32mdef\u001b[0m \u001b[0mpartial_dot_product\u001b[0m\u001b[0;34m(\u001b[0m\u001b[0mv\u001b[0m\u001b[0;34m,\u001b[0m \u001b[0mw\u001b[0m\u001b[0;34m)\u001b[0m\u001b[0;34m:\u001b[0m\u001b[0;34m\u001b[0m\u001b[0;34m\u001b[0m\u001b[0m\n\u001b[0;32m----> 3\u001b[0;31m     \u001b[0mcommon\u001b[0m \u001b[0;34m=\u001b[0m \u001b[0mv\u001b[0m\u001b[0;34m.\u001b[0m\u001b[0mindex\u001b[0m\u001b[0;34m.\u001b[0m\u001b[0mintersection\u001b[0m\u001b[0;34m(\u001b[0m\u001b[0mw\u001b[0m\u001b[0;34m.\u001b[0m\u001b[0mindex\u001b[0m\u001b[0;34m)\u001b[0m\u001b[0;34m\u001b[0m\u001b[0;34m\u001b[0m\u001b[0m\n\u001b[0m\u001b[1;32m      4\u001b[0m     \u001b[0;32mreturn\u001b[0m \u001b[0mnp\u001b[0m\u001b[0;34m.\u001b[0m\u001b[0msum\u001b[0m\u001b[0;34m(\u001b[0m\u001b[0mv\u001b[0m\u001b[0;34m[\u001b[0m\u001b[0mcommon\u001b[0m\u001b[0;34m]\u001b[0m \u001b[0;34m*\u001b[0m \u001b[0mw\u001b[0m\u001b[0;34m[\u001b[0m\u001b[0mcommon\u001b[0m\u001b[0;34m]\u001b[0m\u001b[0;34m)\u001b[0m\u001b[0;34m\u001b[0m\u001b[0;34m\u001b[0m\u001b[0m\n\u001b[1;32m      5\u001b[0m \u001b[0;34m\u001b[0m\u001b[0m\n",
      "\u001b[0;31mAttributeError\u001b[0m: 'DesignMatrix' object has no attribute 'index'"
     ]
    }
   ],
   "source": [
    "attr = build_pnl_attribution()\n",
    "\n",
    "for column in attr.columns:\n",
    "        plt.plot(attr[column].cumsum(), label=column)\n",
    "plt.legend(loc='upper left')\n",
    "plt.xlabel('Date')\n",
    "plt.ylabel('PnL Attribution')\n",
    "plt.show()"
   ]
  },
  {
   "cell_type": "markdown",
   "metadata": {},
   "source": [
    "## Build portfolio characteristics (TODO)\n",
    "Calculate the sum of long positions, short positions, net positions, gross market value, and amount of dollars traded.\n",
    "\n",
    "In the code below, in the function `build_portfolio_characteristics` calculate the sum of long positions, short positions, net positions, gross market value, and amount of dollars traded.  "
   ]
  },
  {
   "cell_type": "code",
   "execution_count": null,
   "metadata": {},
   "outputs": [],
   "source": [
    "def build_portfolio_characteristics(): \n",
    "    df = pd.DataFrame(index = my_dates)\n",
    "    \n",
    "    for dt in my_dates:\n",
    "        date = dt.strftime('%Y%m%d')\n",
    "  \n",
    "        p = port[date]\n",
    "        tradelist = trades[date]\n",
    "        h = p['opt.portfolio']['h.opt']\n",
    "        \n",
    "        # TODO: Implement\n",
    "        \n",
    "        df.at[dt,\"long\"] = h[h>=0].sum()\n",
    "        df.at[dt,\"short\"] = h[h<0].sum()\n",
    "        df.at[dt,\"net\"] = df.at[dt,\"long\"] + df.at[dt,\"short\"]\n",
    "        df.at[dt,\"gmv\"] = df.at[dt,\"long\"] - df.at[dt,\"short\"]\n",
    "        df.at[dt,\"traded\"] = (tradelist['h.opt'] - tradelist['h.opt.previous']).abs().sum()\n",
    "        \n",
    "    return df"
   ]
  },
  {
   "cell_type": "code",
   "execution_count": null,
   "metadata": {},
   "outputs": [],
   "source": [
    "pchar = build_portfolio_characteristics()\n",
    "\n",
    "for column in pchar.columns:\n",
    "        plt.plot(pchar[column], label=column)\n",
    "plt.legend(loc='upper left')\n",
    "plt.xlabel('Date')\n",
    "plt.ylabel('Portfolio')\n",
    "plt.show()"
   ]
  },
  {
   "cell_type": "markdown",
   "metadata": {},
   "source": [
    "#### Optional\n",
    "Choose additional metrics to evaluate your portfolio."
   ]
  },
  {
   "cell_type": "code",
   "execution_count": null,
   "metadata": {},
   "outputs": [],
   "source": [
    "# Optional\n"
   ]
  },
  {
   "cell_type": "markdown",
   "metadata": {},
   "source": [
    "## Submission\n",
    "Now that you're done with the project, it's time to submit it. Click the submit button in the bottom right. One of our reviewers will give you feedback on your project with a pass or not passed grade."
   ]
  }
 ],
 "metadata": {
  "kernelspec": {
   "display_name": "Python [conda env:backtest] *",
   "language": "python",
   "name": "conda-env-backtest-py"
  },
  "language_info": {
   "codemirror_mode": {
    "name": "ipython",
    "version": 3
   },
   "file_extension": ".py",
   "mimetype": "text/x-python",
   "name": "python",
   "nbconvert_exporter": "python",
   "pygments_lexer": "ipython3",
   "version": "3.7.4"
  }
 },
 "nbformat": 4,
 "nbformat_minor": 2
}
